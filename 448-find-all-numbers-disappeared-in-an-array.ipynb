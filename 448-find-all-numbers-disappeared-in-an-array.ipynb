{
 "cells": [
  {
   "cell_type": "markdown",
   "metadata": {},
   "source": [
    "### 448: Find All Numbers Disappeared in an Array\n",
    "\n",
    "Given an array nums of n integers where nums[i] is in the range [1, n], return an array of all the integers in the range [1, n] that do not appear in nums.\n",
    "\n",
    "Example 1:  \n",
    "Input: nums = [4,3,2,7,8,2,3,1]  \n",
    "output = [5,6]\n",
    "\n",
    "Example 2:  \n",
    "Input: nums = [1,1]  \n",
    "output = [2]"
   ]
  },
  {
   "cell_type": "code",
   "execution_count": 4,
   "metadata": {},
   "outputs": [],
   "source": [
    "def findDisappearedNumbers(nums):\n",
    "    length = len(nums)\n",
    "    hashset = set()\n",
    "    for i in range(1,length+1):\n",
    "        hashset.add(i)\n",
    "    for i in nums:\n",
    "        if i in hashset:\n",
    "            hashset.remove(i)\n",
    "    num_missing = len(hashset)\n",
    "    rv = [None]*num_missing\n",
    "    for i in range(num_missing):\n",
    "        rv[i] = hashset.pop()\n",
    "    return rv"
   ]
  },
  {
   "cell_type": "code",
   "execution_count": 10,
   "metadata": {},
   "outputs": [],
   "source": [
    "def findDisappearedNumbers(nums):\n",
    "    length = len(nums)\n",
    "    for i in range(length):\n",
    "        new_index = abs(nums[i]) - 1\n",
    "        if nums[new_index] > 0:\n",
    "            nums[new_index] = nums[new_index] * -1\n",
    "    rv = []\n",
    "    for i in range(length):\n",
    "        if nums[i] > 0:\n",
    "            rv.append(i+1)\n",
    "    return rv\n",
    "\n"
   ]
  },
  {
   "cell_type": "code",
   "execution_count": 11,
   "metadata": {},
   "outputs": [],
   "source": [
    "nums = [4,3,2,7,8,2,3,1]  \n",
    "output = [5,6]\n",
    "rv = findDisappearedNumbers(nums)\n",
    "assert(rv==output)\n",
    "\n",
    "nums = [1,1]  \n",
    "output = [2]\n",
    "rv = findDisappearedNumbers(nums)\n",
    "assert(rv==output)"
   ]
  },
  {
   "cell_type": "code",
   "execution_count": null,
   "metadata": {},
   "outputs": [],
   "source": []
  }
 ],
 "metadata": {
  "kernelspec": {
   "display_name": "base",
   "language": "python",
   "name": "python3"
  },
  "language_info": {
   "codemirror_mode": {
    "name": "ipython",
    "version": 3
   },
   "file_extension": ".py",
   "mimetype": "text/x-python",
   "name": "python",
   "nbconvert_exporter": "python",
   "pygments_lexer": "ipython3",
   "version": "3.9.7"
  },
  "orig_nbformat": 4
 },
 "nbformat": 4,
 "nbformat_minor": 2
}
