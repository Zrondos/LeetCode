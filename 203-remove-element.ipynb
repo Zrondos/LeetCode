{
 "cells": [
  {
   "cell_type": "markdown",
   "metadata": {},
   "source": [
    "### 203: Remove Linked List Elements"
   ]
  },
  {
   "cell_type": "code",
   "execution_count": 6,
   "metadata": {},
   "outputs": [],
   "source": [
    "class ListNode:\n",
    "    def __init__(self, val=0, next=None):\n",
    "        self.val = val\n",
    "        self.next = next\n",
    "def printLinkedList(list):\n",
    "    rv = []\n",
    "    while list:\n",
    "        rv.append(list.val)\n",
    "        list = list.next\n",
    "    print(rv)\n",
    "    return rv\n",
    "def createLinkedList(arr):\n",
    "    length = len(arr)\n",
    "    if length == 0:\n",
    "        return []\n",
    "    head = ListNode(arr[0])\n",
    "    rv = head\n",
    "    i = 1\n",
    "    while i < length:\n",
    "        rv.next = ListNode(arr[i])\n",
    "        rv = rv.next\n",
    "        i+=1\n",
    "    return head"
   ]
  },
  {
   "cell_type": "code",
   "execution_count": 7,
   "metadata": {},
   "outputs": [],
   "source": [
    "def removeElements(head,val):\n",
    "    while head and head.val == val:\n",
    "        head = head.next\n",
    "    curr = head\n",
    "    while curr:\n",
    "        if curr.next and curr.next.val == val:\n",
    "            curr.next = curr.next.next\n",
    "        else:\n",
    "            curr = curr.next\n",
    "    return head"
   ]
  },
  {
   "cell_type": "code",
   "execution_count": 9,
   "metadata": {},
   "outputs": [
    {
     "name": "stdout",
     "output_type": "stream",
     "text": [
      "[1, 2, 3, 4, 5]\n",
      "[]\n",
      "[]\n"
     ]
    }
   ],
   "source": [
    "head = createLinkedList([1,2,6,3,4,5,6])\n",
    "val = 6\n",
    "output = [1,2,3,4,5]\n",
    "rv = removeElements(head,val)\n",
    "assert(printLinkedList(rv)==output)\n",
    "\n",
    "head = createLinkedList([])\n",
    "val = 1\n",
    "output = []\n",
    "rv = removeElements(head,val)\n",
    "assert(printLinkedList(rv)==output)\n",
    "\n",
    "\n",
    "\n",
    "head = createLinkedList([7,7,7,7])\n",
    "val = 7\n",
    "output = []\n",
    "rv = removeElements(head,val)\n",
    "assert(printLinkedList(rv)==output)\n",
    "\n"
   ]
  },
  {
   "cell_type": "code",
   "execution_count": null,
   "metadata": {},
   "outputs": [],
   "source": []
  }
 ],
 "metadata": {
  "kernelspec": {
   "display_name": "Python 3",
   "language": "python",
   "name": "python3"
  },
  "language_info": {
   "codemirror_mode": {
    "name": "ipython",
    "version": 3
   },
   "file_extension": ".py",
   "mimetype": "text/x-python",
   "name": "python",
   "nbconvert_exporter": "python",
   "pygments_lexer": "ipython3",
   "version": "3.9.7"
  },
  "orig_nbformat": 4
 },
 "nbformat": 4,
 "nbformat_minor": 2
}
