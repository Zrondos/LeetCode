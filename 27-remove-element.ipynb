{
 "cells": [
  {
   "cell_type": "markdown",
   "metadata": {},
   "source": [
    "### 27: Remove Element"
   ]
  },
  {
   "cell_type": "code",
   "execution_count": null,
   "metadata": {},
   "outputs": [],
   "source": [
    "def removeElement(nums, val):\n",
    "    length = len(nums)\n",
    "    k = 0\n",
    "    i = 0\n",
    "    while i < length:\n",
    "        if nums[i] == val:\n",
    "            k += 1\n",
    "            start = i+1\n",
    "            while start < length:\n",
    "                nums[start-1] = nums[start]\n",
    "                start += 1\n",
    "            length -= 1\n",
    "            i -= 1\n",
    "        i+=1\n",
    "    return len(nums) - k\n",
    "nums = [0,1,2,2,3,0,4,2]\n",
    "val = 2\n",
    "removeElement(nums,val)"
   ]
  }
 ],
 "metadata": {
  "language_info": {
   "name": "python"
  },
  "orig_nbformat": 4
 },
 "nbformat": 4,
 "nbformat_minor": 2
}
