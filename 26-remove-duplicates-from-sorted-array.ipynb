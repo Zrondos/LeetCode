{
 "cells": [
  {
   "cell_type": "markdown",
   "metadata": {},
   "source": [
    "### 26: Remove Duplicates from Sorted Array\n",
    "\n",
    "Given an integer array nums sorted in non-decreasing order, remove the duplicates in-place such that each unique element appears only once. The relative order of the elements should be kept the same. Then return the number of unique elements in nums.\n",
    "\n",
    "Consider the number of unique elements of nums to be k, to get accepted, you need to do the following things:\n",
    "\n",
    "Change the array nums such that the first k elements of nums contain the unique elements in the order they were present in nums initially. The remaining elements of nums are not important as well as the size of nums.\n",
    "Return k."
   ]
  },
  {
   "cell_type": "code",
   "execution_count": 14,
   "metadata": {},
   "outputs": [],
   "source": [
    "# def removeDuplicates(nums):\n",
    "#     length = len(nums)\n",
    "#     write = 1\n",
    "#     read = 1\n",
    "#     while read < length:\n",
    "#         if nums[read - 1] != nums[read]:\n",
    "#             nums[write] = nums[read]\n",
    "#             write += 1\n",
    "#         read += 1\n",
    "#     return write"
   ]
  },
  {
   "cell_type": "code",
   "execution_count": 26,
   "metadata": {},
   "outputs": [],
   "source": [
    "def removeDuplicates(nums):\n",
    "    length = len(nums)\n",
    "    read = 1\n",
    "    write = 0\n",
    "    while read < length:\n",
    "        if nums[read] == nums[write]:\n",
    "            read += 1\n",
    "        else:\n",
    "            write += 1\n",
    "            nums[write] = nums[read]\n",
    "    return write + 1"
   ]
  },
  {
   "cell_type": "code",
   "execution_count": 27,
   "metadata": {},
   "outputs": [],
   "source": [
    "nums = [1,1,2]\n",
    "rv = removeDuplicates(nums)\n",
    "output = 2\n",
    "assert(rv==output)\n",
    "\n",
    "nums = [0,0,1,1,1,2,2,3,3,4]\n",
    "rv = removeDuplicates(nums)\n",
    "output = 5\n",
    "assert(rv==output)"
   ]
  },
  {
   "cell_type": "code",
   "execution_count": null,
   "metadata": {},
   "outputs": [],
   "source": []
  }
 ],
 "metadata": {
  "kernelspec": {
   "display_name": "base",
   "language": "python",
   "name": "python3"
  },
  "language_info": {
   "codemirror_mode": {
    "name": "ipython",
    "version": 3
   },
   "file_extension": ".py",
   "mimetype": "text/x-python",
   "name": "python",
   "nbconvert_exporter": "python",
   "pygments_lexer": "ipython3",
   "version": "3.9.7"
  },
  "orig_nbformat": 4
 },
 "nbformat": 4,
 "nbformat_minor": 2
}
