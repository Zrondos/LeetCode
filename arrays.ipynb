{
 "cells": [
  {
   "attachments": {},
   "cell_type": "markdown",
   "metadata": {},
   "source": [
    "### Max Consecutive Ones\n",
    "Given a binary array nums, return the maximum number of consecutive 1's in the array.\n",
    "\n",
    "Ex 1:  \n",
    "Input: nums = [1,1,0,1,1,1]  \n",
    "Output: 3\n",
    "\n",
    "Ex 2:  \n",
    "Input: nums = [1,0,1,1,0,1]  \n",
    "Output: 2"
   ]
  },
  {
   "cell_type": "code",
   "execution_count": null,
   "metadata": {},
   "outputs": [],
   "source": [
    "def findMaxConsecutiveOnes(nums):\n",
    "    _max = 0\n",
    "    index = 0\n",
    "    length = len(nums)\n",
    "    curr_count = 0\n",
    "    while index < length:\n",
    "        if nums[index] == 1:\n",
    "            curr_count += 1\n",
    "        else:\n",
    "            _max = max(_max,curr_count)\n",
    "            curr_count = 0\n",
    "        index += 1\n",
    "    return max(_max,curr_count)"
   ]
  },
  {
   "attachments": {},
   "cell_type": "markdown",
   "metadata": {},
   "source": [
    "### Find Numbers with Even Number of Digits\n",
    "\n",
    "Given an array nums of integers, return how many of them contain an even number of digits."
   ]
  },
  {
   "cell_type": "code",
   "execution_count": null,
   "metadata": {},
   "outputs": [],
   "source": [
    "def findNumbers(nums):\n",
    "    count = 0\n",
    "    for i in nums:\n",
    "        even = False\n",
    "        num = i\n",
    "        while num >= 10:\n",
    "            num = num//10\n",
    "            even = not even\n",
    "        if even:\n",
    "            count += 1\n",
    "    return count"
   ]
  },
  {
   "attachments": {},
   "cell_type": "markdown",
   "metadata": {},
   "source": [
    "### Squares of a Sorted Array  \n",
    "Given an integer array nums sorted in non-decreasing order, return an array of the squares of each number sorted in non-decreasing order.  \n",
    "<b> Strategy: 2 Pointers </b>\n"
   ]
  },
  {
   "cell_type": "code",
   "execution_count": null,
   "metadata": {},
   "outputs": [],
   "source": [
    "def sortedSquares(self, nums: List[int]) -> List[int]:\n",
    "    length = len(nums)\n",
    "    left = 0\n",
    "    right = length - 1\n",
    "    arr = [0] * length\n",
    "    index = right\n",
    "    while index >= 0:\n",
    "        if abs(nums[left]) > abs(nums[right]):\n",
    "            arr[index] = nums[left]**2\n",
    "            left += 1\n",
    "        else:\n",
    "            arr[index] = nums[right]**2\n",
    "            right -=1\n",
    "        index -=1\n",
    "    return arr"
   ]
  },
  {
   "attachments": {},
   "cell_type": "markdown",
   "metadata": {},
   "source": [
    "### Duplicate Zeros\n",
    "Given a fixed-length integer array arr, duplicate each occurrence of zero, shifting the remaining elements to the right.\n",
    "\n",
    "Note that elements beyond the length of the original array are not written. Do the above modifications to the input array in place and do not return anything.\n",
    "\n",
    "Ex 1:\n",
    "Input: arr = [1,0,2,3,0,4,5,0]  \n",
    "Output: [1,0,0,2,3,0,0,4]  \n",
    "\n",
    "Ex 2:  \n",
    "Input: arr = [1,2,3]\n",
    "Output: [1,2,3]"
   ]
  },
  {
   "cell_type": "code",
   "execution_count": 4,
   "metadata": {},
   "outputs": [
    {
     "name": "stdout",
     "output_type": "stream",
     "text": [
      "[0, 0, 2, 3, 0, 0, 4, 5]\n"
     ]
    }
   ],
   "source": [
    "def duplicateZeros(arr):\n",
    "    lastIndex = 0\n",
    "    numElems = 0\n",
    "    length = len(arr)\n",
    "    for i in range(length):\n",
    "        if numElems > length:\n",
    "            break\n",
    "        if arr[lastIndex] == 0:\n",
    "            numElems += 2\n",
    "        else:\n",
    "            numElems += 1\n",
    "        lastIndex += 1\n",
    "    length -= 1\n",
    "    lastIndex -= 1\n",
    "    while length > 0:\n",
    "        if arr[lastIndex] == 0:\n",
    "            arr[length] = arr[lastIndex]\n",
    "            length -= 1\n",
    "        arr[length] = arr[lastIndex]\n",
    "        lastIndex -= 1\n",
    "        length -= 1\n",
    "arr = [1,0,2,3,0,4,5,0] \n",
    "duplicateZeros(arr)\n",
    "print(arr)"
   ]
  },
  {
   "cell_type": "code",
   "execution_count": 9,
   "metadata": {},
   "outputs": [
    {
     "name": "stdout",
     "output_type": "stream",
     "text": [
      "[0, 0, 0, 0, 0, 0, 0, 0]\n"
     ]
    }
   ],
   "source": [
    "def duplicateZeros(arr):\n",
    "    lastIndex = 0\n",
    "    numElems = 0\n",
    "    length = len(arr)\n",
    "    while numElems < length:\n",
    "        if arr[lastIndex] == 0:\n",
    "            numElems += 2\n",
    "        else:\n",
    "            numElems += 1\n",
    "        lastIndex += 1\n",
    "    length -= 1\n",
    "    lastIndex -= 1\n",
    "    while length > 0:\n",
    "        if arr[lastIndex] == 0:\n",
    "            arr[length] = arr[lastIndex]\n",
    "            length -= 1\n",
    "        arr[length] = arr[lastIndex]\n",
    "        lastIndex -= 1\n",
    "        length -= 1\n",
    "\n",
    "# arr = [1,0,2,3,0,4,5,0]\n",
    "# arr2 = [1,0,0,2,3,0,0,4]\n",
    "arr = [8,4,5,0,0,0,0,7]\n",
    "arr2 = [8,4,5,0,0,0,0,0]\n",
    "duplicateZeros(arr)\n",
    "print(arr)"
   ]
  },
  {
   "attachments": {},
   "cell_type": "markdown",
   "metadata": {},
   "source": [
    "### Merge Sorted Array\n",
    "\n",
    "You are given two integer arrays nums1 and nums2, sorted in non-decreasing order, and two integers m and n, representing the number of elements in nums1 and nums2 respectively.\n",
    "\n",
    "Merge nums1 and nums2 into a single array sorted in non-decreasing order.\n",
    "\n",
    "The final sorted array should not be returned by the function, but instead be stored inside the array nums1. To accommodate this, nums1 has a length of m + n, where the first m elements denote the elements that should be merged, and the last n elements are set to 0 and should be ignored. nums2 has a length of n.\n",
    "\n",
    "Input: nums1 = [1,2,3,0,0,0], m = 3, nums2 = [2,5,6], n = 3\n",
    "Output: [1,2,2,3,5,6]\n",
    "\n",
    "Input: nums1 = [1], m = 1, nums2 = [], n = 0\n",
    "Output: [1]"
   ]
  },
  {
   "cell_type": "code",
   "execution_count": null,
   "metadata": {},
   "outputs": [],
   "source": [
    "def merge(nums1, m, nums2, n):\n",
    "    \"\"\"\n",
    "    Do not return anything, modify nums1 in-place instead.\n",
    "    \"\"\"\n",
    "    i = n+m-1\n",
    "    r1 = m-1\n",
    "    r2 = n-1\n",
    "    while i >= 0:\n",
    "        if r1 < 0:\n",
    "            nums1[i] = nums2[r2]\n",
    "            r2 -= 1\n",
    "        elif r2 < 0:\n",
    "            nums1[i] = nums1[r1]\n",
    "            r1 -= 1\n",
    "        elif nums1[r1] > nums2[r2]:\n",
    "            nums1[i] = nums1[r1]\n",
    "            r1 -= 1\n",
    "        else:\n",
    "            nums1[i] = nums2[r2]\n",
    "            r2 -= 1\n",
    "        i -= 1"
   ]
  },
  {
   "attachments": {},
   "cell_type": "markdown",
   "metadata": {},
   "source": [
    "### Remove Element\n",
    "\n",
    "Given an integer array nums and an integer val, remove all occurrences of val in nums in-place. \n",
    "Consider the number of elements in nums which are not equal to val be k\n",
    "Change the array nums such that the first k elements of nums contain the elements which are not equal to val\n",
    "Return k."
   ]
  },
  {
   "cell_type": "code",
   "execution_count": null,
   "metadata": {},
   "outputs": [],
   "source": [
    "def removeElement(nums, val):\n",
    "    back = len(nums)\n",
    "    front = 0\n",
    "    while front < back:\n",
    "        if nums[front] == val:\n",
    "            nums[front] = nums[back - 1]\n",
    "            back -= 1\n",
    "        else:\n",
    "            front += 1\n",
    "    return front"
   ]
  },
  {
   "attachments": {},
   "cell_type": "markdown",
   "metadata": {},
   "source": [
    "### Remove Duplicates from Sorted Array\n",
    "\n",
    "Given an integer array nums sorted in non-decreasing order, remove the duplicates in-place such that each unique element appears only once. The relative order of the elements should be kept the same. Then return the number of unique elements in nums.\n",
    "\n",
    "Change the array nums such that the first k elements of nums contain the unique elements in the order they were present. Return k."
   ]
  },
  {
   "cell_type": "code",
   "execution_count": null,
   "metadata": {},
   "outputs": [],
   "source": []
  },
  {
   "attachments": {},
   "cell_type": "markdown",
   "metadata": {},
   "source": [
    "#### Valid Mountain Array\n",
    "Given an array of integers arr, return true if and only if it is a valid mountain array."
   ]
  },
  {
   "cell_type": "code",
   "execution_count": null,
   "metadata": {},
   "outputs": [],
   "source": [
    "def validMountainArray(arr):\n",
    "    index = 0\n",
    "    length = len(arr)\n",
    "    while index < length - 1 and arr[index] < arr[index+1]:\n",
    "        index += 1\n",
    "    if index == 0 or index == length -1:\n",
    "        return False\n",
    "    while index < length - 1 and arr[index] > arr[index+1]:\n",
    "        index += 1\n",
    "    return index == length - 1"
   ]
  },
  {
   "attachments": {},
   "cell_type": "markdown",
   "metadata": {},
   "source": [
    "#### Replace Elements with Greatest Element on Right Side\n",
    "Given an array arr, replace every element in that array with the greatest element among the elements to its right, and replace the last element with -1.\n",
    "\n",
    "After doing so, return the array."
   ]
  },
  {
   "cell_type": "code",
   "execution_count": null,
   "metadata": {},
   "outputs": [],
   "source": [
    "def replaceElements(arr):\n",
    "    _max = -1\n",
    "    i = len(arr) - 1\n",
    "    while i >= 0:\n",
    "        curr = arr[i]\n",
    "        arr[i] = _max\n",
    "        _max = max(_max,curr)\n",
    "        i -= 1\n",
    "    return arr\n"
   ]
  },
  {
   "attachments": {},
   "cell_type": "markdown",
   "metadata": {},
   "source": [
    "#### Sort Array By Parity\n",
    "\n",
    "Given an integer array nums, move all the even integers at the beginning of the array followed by all the odd integers.\n",
    "\n",
    "Return any array that satisfies this condition.\n",
    "\n",
    "Ex 1:\n",
    "Input: nums = [3,1,2,4]  \n",
    "Possible Outpus: [2,4,3,1], [4,2,3,1], [2,4,1,3], [4,2,1,3] "
   ]
  },
  {
   "cell_type": "code",
   "execution_count": null,
   "metadata": {},
   "outputs": [],
   "source": [
    "def sortArrayByParity(nums):\n",
    "    l = 0\n",
    "    r = len(nums) - 1\n",
    "    while l < r:\n",
    "        left = nums[l]%2 \n",
    "        right = nums[r]%2 \n",
    "        if left == 0 and r == 0:\n",
    "            l += 1\n",
    "        elif left == 1 and r == 1:\n",
    "            r -= 1\n",
    "        elif left == 1 and r == 0:\n",
    "            temp = nums[l]\n",
    "            nums[l] = nums[r]\n",
    "            nums[r] = temp\n",
    "            l+= 1\n",
    "            r -= 1\n",
    "        else:\n",
    "            l += 1\n",
    "            r -= 1\n",
    "    return nums"
   ]
  }
 ],
 "metadata": {
  "kernelspec": {
   "display_name": "Python 3",
   "language": "python",
   "name": "python3"
  },
  "language_info": {
   "codemirror_mode": {
    "name": "ipython",
    "version": 3
   },
   "file_extension": ".py",
   "mimetype": "text/x-python",
   "name": "python",
   "nbconvert_exporter": "python",
   "pygments_lexer": "ipython3",
   "version": "3.8.9"
  },
  "orig_nbformat": 4
 },
 "nbformat": 4,
 "nbformat_minor": 2
}
