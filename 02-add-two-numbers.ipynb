{
 "cells": [
  {
   "cell_type": "code",
   "execution_count": 2,
   "metadata": {},
   "outputs": [],
   "source": [
    "class ListNode:\n",
    "    def __init__(self, val=0, next=None):\n",
    "        self.val = val\n",
    "        self.next = next"
   ]
  },
  {
   "cell_type": "code",
   "execution_count": 3,
   "metadata": {},
   "outputs": [],
   "source": [
    "def printLinkedList(list):\n",
    "    rv = []\n",
    "    while list:\n",
    "        rv.append(list.val)\n",
    "        list = list.next\n",
    "    print(rv)\n",
    "    return rv"
   ]
  },
  {
   "cell_type": "code",
   "execution_count": 4,
   "metadata": {},
   "outputs": [],
   "source": [
    "def createLinkedList(arr):\n",
    "    length = len(arr)\n",
    "    head = ListNode(arr[0])\n",
    "    rv = head\n",
    "    i = 1\n",
    "    while i < length:\n",
    "        rv.next = ListNode(arr[i])\n",
    "        rv = rv.next\n",
    "        i+=1\n",
    "    return head\n"
   ]
  },
  {
   "cell_type": "code",
   "execution_count": 5,
   "metadata": {},
   "outputs": [
    {
     "name": "stdout",
     "output_type": "stream",
     "text": [
      "[1, 2, 3, 4]\n"
     ]
    },
    {
     "data": {
      "text/plain": [
       "[1, 2, 3, 4]"
      ]
     },
     "execution_count": 5,
     "metadata": {},
     "output_type": "execute_result"
    }
   ],
   "source": [
    "arr = [1,2,3,4]\n",
    "ll = createLinkedList(arr)\n",
    "printLinkedList(ll)"
   ]
  },
  {
   "cell_type": "code",
   "execution_count": 6,
   "metadata": {},
   "outputs": [
    {
     "name": "stdout",
     "output_type": "stream",
     "text": [
      "[5, 7, 9]\n",
      "[7, 1, 0, 7]\n"
     ]
    }
   ],
   "source": [
    "def addTwoNumbers(l1,l2):\n",
    "    rv = ListNode()\n",
    "    if l1 == None:\n",
    "        return l2\n",
    "    elif l2 == None:\n",
    "        return l1\n",
    "    elif l1.next == None and l2.next == None:\n",
    "        return ListNode(l1.val+l2.val)\n",
    "    else:\n",
    "        val = l1.val + l2.val\n",
    "        leftover = 0\n",
    "        rv.next = addTwoNumbers(l1.next,l2.next)\n",
    "        if rv.next.val > 9:\n",
    "            rv.next.val = rv.next.val%10\n",
    "            leftover = 1\n",
    "        rv.val = val + leftover\n",
    "        if rv.val > 9:\n",
    "            rv.val = rv.val%10\n",
    "            rv = ListNode(1,rv)\n",
    "    return rv\n",
    "\n",
    "l1 = [1,2,3]\n",
    "l2 = [4,5,6]\n",
    "l1 = createLinkedList(l1)\n",
    "l2 = createLinkedList(l2)\n",
    "rv = addTwoNumbers(l1,l2)\n",
    "assert(printLinkedList(rv)==[5,7,9])\n",
    "\n",
    "l1 = [2,4,3]\n",
    "l2 = [5,6,4]\n",
    "l1 = createLinkedList(l1)\n",
    "l2 = createLinkedList(l2)\n",
    "rv = addTwoNumbers(l1,l2)\n",
    "assert(printLinkedList(rv)==[7,1,0,7])\n"
   ]
  },
  {
   "cell_type": "code",
   "execution_count": 18,
   "metadata": {},
   "outputs": [],
   "source": [
    "def addTwoNumbers(l1,l2):\n",
    "    carry = 0\n",
    "    head = ListNode()\n",
    "    l = head\n",
    "    while l1 or l2 or carry:\n",
    "        if l1:\n",
    "            l1val = l1.val\n",
    "        else:\n",
    "            l1val = 0\n",
    "        if l2:\n",
    "            l2val = l2.val\n",
    "        else:\n",
    "            l2val = 0\n",
    "        lval = l1val + l2val + carry\n",
    "        if lval > 9:\n",
    "            lval %= 10\n",
    "            carry = 1\n",
    "        else:\n",
    "            carry = 0\n",
    "        l.next = ListNode(lval)\n",
    "        l = l.next\n",
    "        if l1:\n",
    "            l1 = l1.next\n",
    "        else:\n",
    "            l1 = None\n",
    "        if l2:\n",
    "            l2 = l2.next\n",
    "        else: \n",
    "            l2 = None\n",
    "    return head.next\n",
    "        \n",
    "    \n"
   ]
  },
  {
   "cell_type": "code",
   "execution_count": 20,
   "metadata": {},
   "outputs": [
    {
     "name": "stdout",
     "output_type": "stream",
     "text": [
      "[7, 0, 8]\n",
      "[8, 9, 9, 9, 0, 0, 0, 1]\n"
     ]
    }
   ],
   "source": [
    "l1 = [2,4,3]\n",
    "l2 = [5,6,4]\n",
    "l1 = createLinkedList(l1)\n",
    "l2 = createLinkedList(l2)\n",
    "rv = addTwoNumbers(l1,l2)\n",
    "assert(printLinkedList(rv)==[7,0,8])\n",
    "\n",
    "\n",
    "l1 = [9,9,9,9,9,9,9]\n",
    "l2 = [9,9,9,9]\n",
    "l1 = createLinkedList(l1)\n",
    "l2 = createLinkedList(l2)\n",
    "rv = addTwoNumbers(l1,l2)\n",
    "assert(printLinkedList(rv)==[8,9,9,9,0,0,0,1])\n",
    "# assert(printLinkedList(rv)==[8,0,1])"
   ]
  },
  {
   "cell_type": "code",
   "execution_count": null,
   "metadata": {},
   "outputs": [],
   "source": []
  }
 ],
 "metadata": {
  "kernelspec": {
   "display_name": "Python 3",
   "language": "python",
   "name": "python3"
  },
  "language_info": {
   "codemirror_mode": {
    "name": "ipython",
    "version": 3
   },
   "file_extension": ".py",
   "mimetype": "text/x-python",
   "name": "python",
   "nbconvert_exporter": "python",
   "pygments_lexer": "ipython3",
   "version": "3.8.9"
  },
  "orig_nbformat": 4
 },
 "nbformat": 4,
 "nbformat_minor": 2
}
