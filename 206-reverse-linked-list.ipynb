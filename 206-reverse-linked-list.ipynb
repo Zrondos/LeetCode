{
 "cells": [
  {
   "cell_type": "markdown",
   "metadata": {},
   "source": [
    "### 206: Reverse Linked List\n",
    "\n",
    "Given the head of a singly linked list, reverse the list, and return the reversed list."
   ]
  },
  {
   "cell_type": "markdown",
   "metadata": {},
   "source": [
    "Input: head = [1,2,3,4,5]\n",
    "Output: [5,4,3,2,1]"
   ]
  },
  {
   "cell_type": "code",
   "execution_count": 1,
   "metadata": {},
   "outputs": [],
   "source": [
    "class ListNode:\n",
    "    def __init__(self, val=0, next=None):\n",
    "        self.val = val\n",
    "        self.next = next\n",
    "def printLinkedList(list):\n",
    "    rv = []\n",
    "    while list:\n",
    "        rv.append(list.val)\n",
    "        list = list.next\n",
    "    print(rv)\n",
    "    return rv\n",
    "def createLinkedList(arr):\n",
    "    length = len(arr)\n",
    "    head = ListNode(arr[0])\n",
    "    rv = head\n",
    "    i = 1\n",
    "    while i < length:\n",
    "        rv.next = ListNode(arr[i])\n",
    "        rv = rv.next\n",
    "        i+=1\n",
    "    return head"
   ]
  },
  {
   "cell_type": "code",
   "execution_count": 2,
   "metadata": {},
   "outputs": [],
   "source": [
    "def reverseList(head):\n",
    "    prev = None\n",
    "    curr = head\n",
    "    while curr:\n",
    "        temp = curr.next\n",
    "        curr.next = prev\n",
    "        prev = curr\n",
    "        curr = temp\n",
    "    return prev"
   ]
  },
  {
   "cell_type": "code",
   "execution_count": 4,
   "metadata": {},
   "outputs": [
    {
     "name": "stdout",
     "output_type": "stream",
     "text": [
      "[5, 4, 3, 2, 1]\n",
      "[5, 4, 3, 2, 1]\n"
     ]
    }
   ],
   "source": [
    "l1 = createLinkedList([1,2,3,4,5])\n",
    "reversed = reverseList(l1)\n",
    "printLinkedList(reversed)\n",
    "a2 = [5,4,3,2,1]\n",
    "assert(printLinkedList(reversed)==a2)"
   ]
  },
  {
   "cell_type": "code",
   "execution_count": 5,
   "metadata": {},
   "outputs": [],
   "source": [
    "def reverseList(head):\n",
    "    node = head\n",
    "    if (node == None) or (node.next==None):\n",
    "        return node\n",
    "    else:\n",
    "        head = reverseList(node.next)\n",
    "        node.next.next = node\n",
    "        node.next = None\n",
    "        return head\n"
   ]
  },
  {
   "cell_type": "code",
   "execution_count": 6,
   "metadata": {},
   "outputs": [
    {
     "name": "stdout",
     "output_type": "stream",
     "text": [
      "[5, 4, 3, 2, 1]\n"
     ]
    },
    {
     "data": {
      "text/plain": [
       "[5, 4, 3, 2, 1]"
      ]
     },
     "execution_count": 6,
     "metadata": {},
     "output_type": "execute_result"
    }
   ],
   "source": [
    "l1 = createLinkedList([1,2,3,4,5])\n",
    "reversed = reverseList(l1)\n",
    "printLinkedList(reversed)"
   ]
  },
  {
   "cell_type": "code",
   "execution_count": null,
   "metadata": {},
   "outputs": [],
   "source": []
  }
 ],
 "metadata": {
  "kernelspec": {
   "display_name": "Python 3",
   "language": "python",
   "name": "python3"
  },
  "language_info": {
   "codemirror_mode": {
    "name": "ipython",
    "version": 3
   },
   "file_extension": ".py",
   "mimetype": "text/x-python",
   "name": "python",
   "nbconvert_exporter": "python",
   "pygments_lexer": "ipython3",
   "version": "3.9.17"
  },
  "orig_nbformat": 4
 },
 "nbformat": 4,
 "nbformat_minor": 2
}
