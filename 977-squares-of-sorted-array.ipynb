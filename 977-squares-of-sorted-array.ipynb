{
 "cells": [
  {
   "cell_type": "markdown",
   "metadata": {},
   "source": [
    "### 977: Squares of Sorted Array"
   ]
  },
  {
   "cell_type": "code",
   "execution_count": null,
   "metadata": {},
   "outputs": [],
   "source": [
    "def sortedSquares(nums):\n",
    "    length = len(nums)\n",
    "    left = 0\n",
    "    right = length - 1\n",
    "    arr = [0] * length\n",
    "    index = right\n",
    "    while index >= 0:\n",
    "        if abs(nums[left]) > abs(nums[right]):\n",
    "            arr[index] = nums[left]**2\n",
    "            left += 1\n",
    "        else:\n",
    "            arr[index] = nums[right]**2\n",
    "            right -=1\n",
    "        index -=1\n",
    "    return arr\n",
    "\n",
    "nums = [-4,-1,0,3,10]\n",
    "sortedSquares(nums)"
   ]
  }
 ],
 "metadata": {
  "language_info": {
   "name": "python"
  },
  "orig_nbformat": 4
 },
 "nbformat": 4,
 "nbformat_minor": 2
}
