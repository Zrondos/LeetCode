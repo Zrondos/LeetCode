{
 "cells": [
  {
   "cell_type": "markdown",
   "metadata": {},
   "source": [
    "### 977: Squares of Sorted Array\n",
    "Given an integer array nums sorted in non-decreasing order, return an array of the squares of each number sorted in non-decreasing order.\n",
    "\n",
    "https://leetcode.com/problems/squares-of-a-sorted-array/"
   ]
  },
  {
   "cell_type": "code",
   "execution_count": 9,
   "metadata": {},
   "outputs": [],
   "source": [
    "def sortedSquares(nums):\n",
    "    length = len(nums)\n",
    "    arr = [0]*length\n",
    "    index = length-1\n",
    "    left = 0\n",
    "    right = index\n",
    "    while left <= right:\n",
    "        n1 = nums[left]\n",
    "        n2 = nums[right]\n",
    "        if abs(n1) > abs(n2):\n",
    "            arr[index] = n1**2\n",
    "            left += 1\n",
    "        else:\n",
    "            arr[index] = n2**2\n",
    "            right -= 1\n",
    "        index -= 1\n",
    "    return arr"
   ]
  },
  {
   "cell_type": "code",
   "execution_count": 10,
   "metadata": {},
   "outputs": [
    {
     "name": "stdout",
     "output_type": "stream",
     "text": [
      "[0, 1, 9, 16, 100]\n"
     ]
    }
   ],
   "source": [
    "nums = [-4,-1,0,3,10]\n",
    "rv = sortedSquares(nums)\n",
    "output = [0,1,9,16,100]\n",
    "assert(rv==output)\n",
    "\n",
    "nums = [-7,-3,2,3,11]\n",
    "rv = sortedSquares(nums)\n",
    "output = [4,9,9,49,121]\n",
    "assert(rv==output)\n",
    "\n"
   ]
  },
  {
   "cell_type": "code",
   "execution_count": null,
   "metadata": {},
   "outputs": [],
   "source": []
  }
 ],
 "metadata": {
  "kernelspec": {
   "display_name": "base",
   "language": "python",
   "name": "python3"
  },
  "language_info": {
   "codemirror_mode": {
    "name": "ipython",
    "version": 3
   },
   "file_extension": ".py",
   "mimetype": "text/x-python",
   "name": "python",
   "nbconvert_exporter": "python",
   "pygments_lexer": "ipython3",
   "version": "3.9.7"
  },
  "orig_nbformat": 4
 },
 "nbformat": 4,
 "nbformat_minor": 2
}
