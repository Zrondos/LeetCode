{
 "cells": [
  {
   "cell_type": "markdown",
   "metadata": {},
   "source": [
    "### 905: Sort Array By Parity\n",
    "\n",
    "Given an integer array nums, move all the even integers at the beginning of the array followed by all the odd integers.\n",
    "\n",
    "Return any array that satisfies this condition."
   ]
  },
  {
   "cell_type": "code",
   "execution_count": 8,
   "metadata": {},
   "outputs": [],
   "source": [
    "def sortArrayByParity(nums):\n",
    "    length = len(nums)\n",
    "    l = 0\n",
    "    r = length - 1\n",
    "    while l <= r:\n",
    "        leftEven = nums[l]%2 == 0\n",
    "        rightOdd = nums[r]%2==1\n",
    "        if not leftEven and not rightOdd:\n",
    "            temp = nums[l]\n",
    "            nums[l] = nums[r]\n",
    "            nums[r] = temp\n",
    "            l+= 1\n",
    "            r -= 1\n",
    "        elif not leftEven and rightOdd:\n",
    "            r -= 1\n",
    "        elif leftEven and not rightOdd:\n",
    "            l += 1\n",
    "        else:\n",
    "            l+= 1\n",
    "            r -= 1\n",
    "    return nums"
   ]
  },
  {
   "cell_type": "code",
   "execution_count": 11,
   "metadata": {},
   "outputs": [],
   "source": [
    "nums = [3,1,2,4]\n",
    "output = [4,2,1,3]\n",
    "rv = sortArrayByParity(nums)\n",
    "assert(output==rv)\n",
    "\n",
    "nums = [0]\n",
    "output = [0]\n",
    "rv = sortArrayByParity(nums)\n",
    "assert(output==rv)"
   ]
  },
  {
   "cell_type": "code",
   "execution_count": null,
   "metadata": {},
   "outputs": [],
   "source": []
  }
 ],
 "metadata": {
  "kernelspec": {
   "display_name": "base",
   "language": "python",
   "name": "python3"
  },
  "language_info": {
   "codemirror_mode": {
    "name": "ipython",
    "version": 3
   },
   "file_extension": ".py",
   "mimetype": "text/x-python",
   "name": "python",
   "nbconvert_exporter": "python",
   "pygments_lexer": "ipython3",
   "version": "3.9.7"
  },
  "orig_nbformat": 4
 },
 "nbformat": 4,
 "nbformat_minor": 2
}
