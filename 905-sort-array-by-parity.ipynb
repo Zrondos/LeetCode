{
 "cells": [
  {
   "cell_type": "markdown",
   "metadata": {},
   "source": [
    "### 905: Sort Array By Parity"
   ]
  },
  {
   "cell_type": "code",
   "execution_count": null,
   "metadata": {},
   "outputs": [],
   "source": [
    "def sortArrayByParity(nums):\n",
    "    l = 0\n",
    "    r = len(nums) - 1\n",
    "    while l < r:\n",
    "        while nums[l] % 2 == 0 and l < len(nums):\n",
    "            l += 1\n",
    "        while nums[r] % 2 != 0 and r > 0:\n",
    "            r -= 1\n",
    "        if l >= r:\n",
    "            break\n",
    "        even = nums[r]\n",
    "        odd = nums[l]\n",
    "        nums[r] = odd\n",
    "        nums[l] = even\n",
    "nums = [3,1,2,4]\n",
    "sortArrayByParity(nums)"
   ]
  }
 ],
 "metadata": {
  "language_info": {
   "name": "python"
  },
  "orig_nbformat": 4
 },
 "nbformat": 4,
 "nbformat_minor": 2
}
