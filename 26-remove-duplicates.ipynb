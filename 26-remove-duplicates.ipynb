{
 "cells": [
  {
   "cell_type": "markdown",
   "metadata": {},
   "source": [
    "### 26 Remove Duplicates"
   ]
  },
  {
   "cell_type": "code",
   "execution_count": null,
   "metadata": {},
   "outputs": [],
   "source": [
    "def removeDuplicates(nums):\n",
    "    #Unique = num elements. For each duplicate element, decrement unique\n",
    "    #Starting from left to right: check if curr val == next val: if so, shift everything left and decrement lenbth\n",
    "    #Increment i\n",
    "    length = len(nums)\n",
    "    insert = 1\n",
    "    i = 1\n",
    "    while i < length:\n",
    "        if nums[i] != nums[i-1]:\n",
    "            nums[insert] = nums[i]\n",
    "            insert += 1\n",
    "        i += 1\n",
    "    return insert\n",
    "\n",
    "\n",
    "removeDuplicates([1,1,1])"
   ]
  },
  {
   "cell_type": "markdown",
   "metadata": {},
   "source": []
  }
 ],
 "metadata": {
  "language_info": {
   "name": "python"
  },
  "orig_nbformat": 4
 },
 "nbformat": 4,
 "nbformat_minor": 2
}
