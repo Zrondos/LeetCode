{
 "cells": [
  {
   "attachments": {},
   "cell_type": "markdown",
   "metadata": {},
   "source": [
    "#### Find Pivot Index\n",
    "\n",
    "Given an array of integers nums, calculate the pivot index of this array.\n",
    "\n",
    "The pivot index is the index where the sum of all the numbers strictly to the left of the index is equal to the sum of all the numbers strictly to the index's right.\n",
    "\n",
    "If the index is on the left edge of the array, then the left sum is 0 because there are no elements to the left. This also applies to the right edge of the array.\n",
    "\n",
    "Return the leftmost pivot index. If no such index exists, return -1."
   ]
  },
  {
   "cell_type": "code",
   "execution_count": 8,
   "metadata": {},
   "outputs": [
    {
     "name": "stdout",
     "output_type": "stream",
     "text": [
      "3\n"
     ]
    }
   ],
   "source": [
    "def pivotIndex(nums):\n",
    "    length = len(nums)\n",
    "    left = [0] * length\n",
    "    right = [0] * length\n",
    "\n",
    "    total = 0\n",
    "    for i in range(length):\n",
    "        left[i] = total\n",
    "        total += nums[i]\n",
    "    total = 0\n",
    "    for i in range(length-1,-1,-1):\n",
    "        right[i] = total\n",
    "        total += nums[i]\n",
    "    for i in range(length):\n",
    "        if left[i] == right[i]:\n",
    "            return i\n",
    "    return -1\n",
    "nums = [1,7,3,6,5,6]\n",
    "print(pivotIndex(nums))\n",
    "\n"
   ]
  },
  {
   "attachments": {},
   "cell_type": "markdown",
   "metadata": {},
   "source": [
    "#### Largest Number At Least Twice of Others\n",
    "\n",
    "You are given an integer array nums where the largest integer is unique.\n",
    "\n",
    "Determine whether the largest element in the array is at least twice as much as every other number in the array. If it is, return the index of the largest element, or return -1 otherwise."
   ]
  },
  {
   "cell_type": "code",
   "execution_count": 9,
   "metadata": {},
   "outputs": [],
   "source": [
    "def dominantIndex(nums):\n",
    "    best = nums[0]\n",
    "    index = 0\n",
    "    length = len(nums)\n",
    "    for i in range(length):\n",
    "        if nums[i] > best:\n",
    "            best = nums[i]\n",
    "            index = i\n",
    "    for i in range(length):\n",
    "        if i!= index and nums[index] < nums[i] * 2:\n",
    "            return -1\n",
    "    return index\n"
   ]
  },
  {
   "attachments": {},
   "cell_type": "markdown",
   "metadata": {},
   "source": [
    "#### Plus One\n",
    "You are given a large integer represented as an integer array digits, where each digits[i] is the ith digit of the integer. The digits are ordered from most significant to least significant in left-to-right order. The large integer does not contain any leading 0's.\n",
    "\n",
    "Increment the large integer by one and return the resulting array of digits.\n",
    "\n",
    "Input: digits = [1,2,3]\n",
    "Output: [1,2,4]\n",
    "\n",
    "Input: digits = [4,3,2,1]\n",
    "Output: [4,3,2,2]"
   ]
  },
  {
   "cell_type": "code",
   "execution_count": 10,
   "metadata": {},
   "outputs": [],
   "source": [
    "def plusOne(digits):\n",
    "    length = len(digits)\n",
    "    i = length - 1\n",
    "    digits[i] += 1\n",
    "    while digits[i] == 10 and i > 0:\n",
    "        digits[i] = 0\n",
    "        digits[i-1] += 1\n",
    "        i -= 1\n",
    "    if digits[0] == 10:\n",
    "        digits[0] = 0\n",
    "        digits.insert(0,1)\n",
    "    return digits"
   ]
  },
  {
   "attachments": {},
   "cell_type": "markdown",
   "metadata": {},
   "source": [
    "### Diagonal Traverse\n",
    "\n",
    "Given an m x n matrix mat, return an array of all the elements of the array in a diagonal order."
   ]
  },
  {
   "cell_type": "code",
   "execution_count": 11,
   "metadata": {},
   "outputs": [
    {
     "data": {
      "text/plain": [
       "[1, 2, 4, 7, 5, 3, 6, 8, 9]"
      ]
     },
     "execution_count": 11,
     "metadata": {},
     "output_type": "execute_result"
    }
   ],
   "source": [
    "def findDiagonalOrder(mat):\n",
    "    up = True\n",
    "    row = 0\n",
    "    col = 0\n",
    "    num_rows = len(mat)\n",
    "    num_cols = len(mat[0])\n",
    "    num_elems = num_rows * num_cols\n",
    "\n",
    "    result = [0]*(num_elems)\n",
    "    i = 0\n",
    "    for i in range(num_elems):\n",
    "        result[i] = mat[row][col]\n",
    "        if up:\n",
    "            if col == num_cols - 1:\n",
    "                row += 1\n",
    "                up = not up\n",
    "            elif row == 0:\n",
    "                col += 1\n",
    "                up = not up\n",
    "            else:\n",
    "                row -= 1\n",
    "                col += 1\n",
    "        else:\n",
    "            if row == num_rows - 1:\n",
    "                col += 1\n",
    "                up = not up\n",
    "            elif col == 0:\n",
    "                row += 1\n",
    "                up = not up\n",
    "            else:\n",
    "                row += 1\n",
    "                col -= 1\n",
    "    return result\n",
    "mat1 = [[1,2,3],[4,5,6],[7,8,9]]\n",
    "findDiagonalOrder(mat1)"
   ]
  },
  {
   "cell_type": "code",
   "execution_count": null,
   "metadata": {},
   "outputs": [],
   "source": [
    "def findDiagonalOrder(mat):\n",
    "    up = True\n",
    "    num_rows = len(mat)\n",
    "    num_cols = len(mat[0])\n",
    "    num_elems = num_rows * num_cols\n",
    "    result = [0]*(num_elems)\n",
    "    row = 0\n",
    "    col = 0\n",
    "    for i in range(num_elems):\n",
    "        result[i] = mat[row][col]\n",
    "        if up:\n",
    "            if row == 0 and col != num_cols-1:\n",
    "                col += 1\n",
    "                up = not up\n",
    "            elif row == 0 and col == num_cols-1:\n",
    "                row += 1\n",
    "                up = not up\n",
    "            elif row != 0 and col == num_cols-1:\n",
    "                row += 1\n",
    "                up = not up\n",
    "            else:\n",
    "                row -= 1\n",
    "                col += 1\n",
    "        else:\n",
    "            if col == 0 and row != num_rows - 1:\n",
    "                row += 1\n",
    "                up = not up\n",
    "            elif col == 0 and row == num_rows - 1:\n",
    "                col += 1\n",
    "                up = not up\n",
    "            elif col != 0 and row == num_rows - 1:\n",
    "                col += 1\n",
    "                up = not up\n",
    "            else:\n",
    "                col -= 1\n",
    "                row += 1\n",
    "    return result\n",
    "        \n"
   ]
  },
  {
   "cell_type": "code",
   "execution_count": 12,
   "metadata": {},
   "outputs": [
    {
     "data": {
      "text/plain": [
       "[99, 100]"
      ]
     },
     "execution_count": 12,
     "metadata": {},
     "output_type": "execute_result"
    }
   ],
   "source": [
    "def processLogs(logs, maxSpan):\n",
    "    # Write your code here\n",
    "    result = []\n",
    "    d = {}\n",
    "    for entry in logs:\n",
    "        entry_arr = entry.split(\" \")\n",
    "        user_id = entry_arr[0]\n",
    "        time_stamp = int(entry_arr[1])\n",
    "        action = entry_arr[2]\n",
    "        if d.get(user_id):\n",
    "            d[user_id][action] = time_stamp\n",
    "        else:\n",
    "            d[user_id] = {}\n",
    "            d[user_id][action] = time_stamp\n",
    "    keys_list = [int(i) for i in d.keys()]\n",
    "    keys_list.sort()\n",
    "    for k in keys_list:\n",
    "        entry = d.get(str(k))\n",
    "        in_time = entry.get(\"sign-in\")\n",
    "        out_time = entry.get(\"sign-out\")\n",
    "        if in_time and out_time and out_time - in_time <= maxSpan:\n",
    "            result.append(k)\n",
    "    return result\n",
    "\n",
    "\n",
    "logs = [\"99 1 sign-in\",\n",
    "\"100 10 sign-in\",\n",
    "\"50 20 sign-in\",\n",
    "\"100 15 sign-out\",\n",
    "\"50 26 sign-out\",\n",
    "\"99 2 sign-out\"]\n",
    "maxSpan = 5\n",
    "\n",
    "processLogs(logs,maxSpan)"
   ]
  },
  {
   "cell_type": "code",
   "execution_count": 13,
   "metadata": {},
   "outputs": [
    {
     "data": {
      "text/plain": [
       "['prune 2', 'apple 1', 'banana 1', 'pear 1']"
      ]
     },
     "execution_count": 13,
     "metadata": {},
     "output_type": "execute_result"
    }
   ],
   "source": [
    "def groupTransactions(transactions):\n",
    "    # Write your code here\n",
    "    # Create dictionary with key=item name and value = num transactions for that item\n",
    "    #Iterate through dictionary and create new dictionary with key = num transactions and value = list of items with those transactions\n",
    "    #Iterate through that dictionary in order, and if the length of a key > 1: sort in alphabetical order. Add string w/ item name and num_items to output array\n",
    "    \n",
    "    result = []\n",
    "    d = {}\n",
    "    for i in transactions:\n",
    "        if d.get(i):\n",
    "            d[i] += 1\n",
    "        else:\n",
    "            d[i] = 1\n",
    "    group_transactions = {}\n",
    "    for k in d.keys():\n",
    "        num_transactions = d[k]\n",
    "        if group_transactions.get(str(num_transactions)):\n",
    "            group_transactions[str(num_transactions)].append(k)\n",
    "        else:\n",
    "            group_transactions[str(num_transactions)] = [k]\n",
    "    keys_list = [int(i) for i in group_transactions.keys()]\n",
    "    keys_list.sort(reverse = True)\n",
    "    for num_transactions in keys_list:\n",
    "        if len(group_transactions[str(num_transactions)]) == 1:\n",
    "            item_name = group_transactions[str(num_transactions)][0]\n",
    "            str_to_add = item_name + \" \" + str(num_transactions)\n",
    "            result.append(str_to_add)\n",
    "        else:\n",
    "            abc_sort= list(group_transactions[str(num_transactions)])\n",
    "            abc_sort.sort()\n",
    "            for item in abc_sort:\n",
    "                str_to_add = item + \" \" + str(num_transactions)\n",
    "                result.append(str_to_add)\n",
    "    return result\n",
    "\n",
    "transactions = [\"prune\",\n",
    "\"banana\",\n",
    "\"pear\",\n",
    "\"apple\",\n",
    "\"prune\"]\n",
    "groupTransactions(transactions)"
   ]
  },
  {
   "cell_type": "code",
   "execution_count": 23,
   "metadata": {},
   "outputs": [
    {
     "data": {
      "text/plain": [
       "'6:40:03'"
      ]
     },
     "execution_count": 23,
     "metadata": {},
     "output_type": "execute_result"
    }
   ],
   "source": [
    "def timeConversion(s):\n",
    "    # Write your code here\n",
    "    time = s.split(\":\")\n",
    "    hour = int(time[0])\n",
    "    minute = time[1]\n",
    "    sec = time[2][0:2]\n",
    "    pm = s[-2:] == \"PM\"\n",
    "    if hour == 12 and not pm:\n",
    "        hour = \"00\"\n",
    "    elif pm and hour != 12:\n",
    "        hour = str(12+int(hour))\n",
    "    else:\n",
    "        hour = str(hour)\n",
    "    string = hour+\":\"+minute+\":\"+sec\n",
    "    return string\n",
    "s = \"06:40:03AM\"\n",
    "timeConversion(s)\n"
   ]
  },
  {
   "cell_type": "code",
   "execution_count": 27,
   "metadata": {},
   "outputs": [
    {
     "data": {
      "text/plain": [
       "4"
      ]
     },
     "execution_count": 27,
     "metadata": {},
     "output_type": "execute_result"
    }
   ],
   "source": [
    "def lonelyinteger(a):\n",
    "    d = {}\n",
    "    for i in a:\n",
    "        if d.get(i):\n",
    "            d.pop(i)\n",
    "        else:\n",
    "            d[i] = 1\n",
    "    return (list(d.keys()))[0]\n",
    "\n",
    "lonelyinteger([1,2,3,4,3,2,1])"
   ]
  },
  {
   "cell_type": "code",
   "execution_count": 29,
   "metadata": {},
   "outputs": [
    {
     "data": {
      "text/plain": [
       "15"
      ]
     },
     "execution_count": 29,
     "metadata": {},
     "output_type": "execute_result"
    }
   ],
   "source": [
    "def diagonalDifference(arr):\n",
    "    # Write your code here\n",
    "    up = 0\n",
    "    down = 0\n",
    "    i=0\n",
    "    j = 0\n",
    "    length= len(arr)\n",
    "    while j < length:\n",
    "        down += arr[i][j]\n",
    "        i+=1\n",
    "        j+=1\n",
    "    i = length - 1\n",
    "    j = 0\n",
    "    while j < length:\n",
    "        up += arr[i][j]\n",
    "        i-=1\n",
    "        j+=1\n",
    "    return abs(down-up)\n",
    "arr = [[11, 2, 4],\n",
    "[4, 5, 6],\n",
    "[10, 8, -12]]\n",
    "diagonalDifference(arr)"
   ]
  },
  {
   "cell_type": "code",
   "execution_count": null,
   "metadata": {},
   "outputs": [],
   "source": [
    "def flippingMatrix(matrix):\n",
    "    n = len(matrix)/2\n",
    "    two_n = n*2\n",
    "    for i in range(n):\n",
    "        if sum(matrix[i][0:n+1]) < sum(matrix[i][n+1:two_n]):\n",
    "            matrix[i].reverse()\n",
    "    for i in range(n):\n",
    "        arr1 = [0]*n\n",
    "        arr2 = [0]*n\n",
    "        for j in range(n):"
   ]
  },
  {
   "cell_type": "code",
   "execution_count": 12,
   "metadata": {},
   "outputs": [
    {
     "data": {
      "text/plain": [
       "[1, 2, 3, 7, 6, 5, 4]"
      ]
     },
     "execution_count": 12,
     "metadata": {},
     "output_type": "execute_result"
    }
   ],
   "source": [
    "def findZigZagSequence(a, n):\n",
    "    a.sort()\n",
    "    mid = int((n)/2)\n",
    "    a[mid], a[n-1] = a[n-1], a[mid]\n",
    "\n",
    "    st = mid + 1\n",
    "    ed = n - 2\n",
    "    while(st <= ed):\n",
    "        a[st], a[ed] = a[ed], a[st]\n",
    "        st = st + 1\n",
    "    return a\n",
    "\n",
    "a = [1,2,3,4,5,6,7]\n",
    "n = len(a)\n",
    "findZigZagSequence(a,n)\n"
   ]
  },
  {
   "cell_type": "code",
   "execution_count": null,
   "metadata": {},
   "outputs": [],
   "source": [
    "def findZigZagSequence(a, n):\n",
    "    #Sort Array\n",
    "    a.sort()\n",
    "    #Find midpoint\n",
    "    mid = int((n)/2)\n",
    "    #Swap last element and middle element. Largest element now in the middle\n",
    "    a[mid], a[n-1] = a[n-1], a[mid]\n",
    "\n",
    "    #st = left element\n",
    "    st = mid + 1\n",
    "    #ed = right element\n",
    "    ed = n - 2\n",
    "\n",
    "    #while left < right\n",
    "    while(st <= ed):\n",
    "        a[st], a[ed] = a[ed], a[st]\n",
    "        st = st + 1\n",
    "        ed = ed - 1"
   ]
  },
  {
   "cell_type": "code",
   "execution_count": 24,
   "metadata": {},
   "outputs": [
    {
     "data": {
      "text/plain": [
       "'okffng-Qwvb'"
      ]
     },
     "execution_count": 24,
     "metadata": {},
     "output_type": "execute_result"
    }
   ],
   "source": [
    "def caesarCipher(s, k):\n",
    "    # Write your code here\n",
    "    lower = 'abcdefghijklmnopqrstuvwxyz'\n",
    "    lower = [x for x in lower]\n",
    "    lower_set = set(lower)\n",
    "    upper = [x.upper() for x in lower]\n",
    "    upper_set = set(upper)\n",
    "    length = len(s)\n",
    "    result = []\n",
    "    for i in range(length):\n",
    "        if s[i] in lower_set:\n",
    "            index = (lower.index(s[i]) + k) % 26\n",
    "            result.append(lower[index])\n",
    "        elif s[i] in upper_set:\n",
    "            index = (upper.index(s[i]) + k) % 26\n",
    "            result.append(upper[index])\n",
    "        else:\n",
    "            result.append(s[i])\n",
    "    return \"\".join(result)\n",
    "\n",
    "s = \"middle-Outz\"\n",
    "k = 2\n",
    "caesarCipher(s,k)"
   ]
  },
  {
   "cell_type": "code",
   "execution_count": 33,
   "metadata": {},
   "outputs": [
    {
     "name": "stdout",
     "output_type": "stream",
     "text": [
      "1\n",
      "8\n",
      "33\n",
      "23\n",
      "25\n",
      "44\n",
      "20\n",
      "-1\n",
      "14\n",
      "-1\n"
     ]
    }
   ],
   "source": [
    "def palindromeIndex(s):\n",
    "    l = 0\n",
    "    r = len(s) - 1\n",
    "    rv = -1\n",
    "    if len(s) == 1:\n",
    "        return -1\n",
    "    while l < r:\n",
    "        if s[l] == s[r]:\n",
    "            l += 1\n",
    "            r -= 1\n",
    "        else:\n",
    "            if rv != -1:\n",
    "                return -1\n",
    "            else:\n",
    "                if s[l] == s[r-1] and s[l+1] == s[r-2]:\n",
    "                    rv = r\n",
    "                    r -= 1\n",
    "                else:\n",
    "                    rv = l\n",
    "                    l += 1\n",
    "    return rv"
   ]
  },
  {
   "cell_type": "code",
   "execution_count": 43,
   "metadata": {},
   "outputs": [
    {
     "data": {
      "text/plain": [
       "'YES'"
      ]
     },
     "execution_count": 43,
     "metadata": {},
     "output_type": "execute_result"
    }
   ],
   "source": [
    "def gridChallenge(grid):    \n",
    "    length = len(grid)\n",
    "    new_grid = []\n",
    "    for i in range(length):\n",
    "        new_grid.append([x for x in grid[i]])\n",
    "        new_grid[i].sort()\n",
    "    num_cols = len(new_grid[0])\n",
    "    num_rows = length\n",
    "    for i in range(num_cols):\n",
    "        prev = new_grid[0][i]\n",
    "        for j in range(num_rows):\n",
    "            if prev > new_grid[j][i]:\n",
    "                return \"NO\"\n",
    "    return \"YES\"\n",
    "\n",
    "grid = [\"abc\",\n",
    "\"ade\",\n",
    "\"efg\"]\n",
    "gridChallenge(grid)\n"
   ]
  },
  {
   "cell_type": "code",
   "execution_count": 45,
   "metadata": {},
   "outputs": [
    {
     "data": {
      "text/plain": [
       "8"
      ]
     },
     "execution_count": 45,
     "metadata": {},
     "output_type": "execute_result"
    }
   ],
   "source": [
    "def superDigit(n, k):\n",
    "    total = [int(x) for x in n]\n",
    "    total = sum(total) * k\n",
    "    if total < 10:\n",
    "        return total\n",
    "    else:\n",
    "        return sumDigits(total)\n",
    "\n",
    "def sumDigits(x):\n",
    "    rv = 0\n",
    "    while x > 0:\n",
    "        rv += x%10\n",
    "        x = x//10\n",
    "    if rv > 10:\n",
    "        return sumDigits(rv)\n",
    "    else:\n",
    "        return rv\n",
    "\n",
    "n = \"9875\"\n",
    "k = 4\n",
    "superDigit(n,k)\n",
    "\n"
   ]
  },
  {
   "cell_type": "code",
   "execution_count": null,
   "metadata": {},
   "outputs": [],
   "source": [
    "def minimumBribes(q):\n",
    "    # Write your code here\n",
    "    total = 0\n",
    "    for i in range(len(q)):\n",
    "        curr = 0\n",
    "        for j in range(i,len(q)):\n",
    "            if q[i] > q[j]:\n",
    "                curr += 1\n",
    "                total += 1\n",
    "            if curr > 2:\n",
    "                print(\"Too chaotic\")\n",
    "                return\n",
    "    print(total)"
   ]
  },
  {
   "cell_type": "code",
   "execution_count": null,
   "metadata": {},
   "outputs": [],
   "source": []
  }
 ],
 "metadata": {
  "kernelspec": {
   "display_name": "Python 3",
   "language": "python",
   "name": "python3"
  },
  "language_info": {
   "codemirror_mode": {
    "name": "ipython",
    "version": 3
   },
   "file_extension": ".py",
   "mimetype": "text/x-python",
   "name": "python",
   "nbconvert_exporter": "python",
   "pygments_lexer": "ipython3",
   "version": "3.8.9"
  },
  "orig_nbformat": 4
 },
 "nbformat": 4,
 "nbformat_minor": 2
}
