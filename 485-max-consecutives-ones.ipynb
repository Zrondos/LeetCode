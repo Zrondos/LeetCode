{
 "cells": [
  {
   "cell_type": "markdown",
   "metadata": {},
   "source": [
    "### 485: Max Consecutive Ones\n",
    "Given a binary array nums, return the maximum number of consecutive 1's in the array.  \n",
    "https://leetcode.com/problems/max-consecutive-ones/description/"
   ]
  },
  {
   "cell_type": "code",
   "execution_count": 2,
   "metadata": {},
   "outputs": [],
   "source": [
    "def findMaxConsecutiveOnes(nums):\n",
    "    rv = 0\n",
    "    curr = 0\n",
    "    for i in nums:\n",
    "        if i == 1:\n",
    "            curr += 1\n",
    "        else:\n",
    "            rv = max(rv,curr)\n",
    "            curr = 0\n",
    "    return max(rv,curr)"
   ]
  },
  {
   "cell_type": "code",
   "execution_count": 3,
   "metadata": {},
   "outputs": [],
   "source": [
    "nums = [1,1,0,1,1,1]\n",
    "rv = findMaxConsecutiveOnes(nums)\n",
    "output = 3\n",
    "assert(rv==output)\n",
    "\n",
    "nums = [1,0,1,1,0,1]\n",
    "rv = findMaxConsecutiveOnes(nums)\n",
    "output = 2\n",
    "assert(rv==output)"
   ]
  },
  {
   "cell_type": "code",
   "execution_count": null,
   "metadata": {},
   "outputs": [],
   "source": []
  }
 ],
 "metadata": {
  "kernelspec": {
   "display_name": "base",
   "language": "python",
   "name": "python3"
  },
  "language_info": {
   "codemirror_mode": {
    "name": "ipython",
    "version": 3
   },
   "file_extension": ".py",
   "mimetype": "text/x-python",
   "name": "python",
   "nbconvert_exporter": "python",
   "pygments_lexer": "ipython3",
   "version": "3.9.7"
  },
  "orig_nbformat": 4
 },
 "nbformat": 4,
 "nbformat_minor": 2
}
