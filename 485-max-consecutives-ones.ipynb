{
 "cells": [
  {
   "cell_type": "markdown",
   "metadata": {},
   "source": [
    "### 485: Max Consecutive Ones"
   ]
  },
  {
   "cell_type": "code",
   "execution_count": null,
   "metadata": {},
   "outputs": [],
   "source": [
    "def findMaxConsecutiveOnes(nums):\n",
    "    _max = 0\n",
    "    index = 0\n",
    "    length = len(nums)\n",
    "    curr_count = 0\n",
    "    while index < length:\n",
    "        if nums[index] == 1:\n",
    "            curr_count += 1\n",
    "        else:\n",
    "            _max = max(_max,curr_count)\n",
    "            curr_count = 0\n",
    "        index += 1\n",
    "    return max(_max,curr_count)\n",
    "\n",
    "nums = [1,1,0,1,1,1]\n",
    "findMaxConsecutiveOnes(nums)"
   ]
  }
 ],
 "metadata": {
  "language_info": {
   "name": "python"
  },
  "orig_nbformat": 4
 },
 "nbformat": 4,
 "nbformat_minor": 2
}
