{
 "cells": [
  {
   "cell_type": "markdown",
   "metadata": {},
   "source": [
    "### 19. Remove Nth Node From End of List\n",
    "Given the head of a linked list, remove the nth node from the end of the list and return its head.\n",
    "\n",
    "<b>Example 1:</b>  \n",
    "head = [1,2,3,4,5], n = 2  \n",
    "Output: [1,2,3,5]\n",
    "\n",
    "<b>Example 2:  </b>  \n",
    "Input: head = [1], n = 1  \n",
    "Output: []\n",
    "\n",
    "<b>Example 3:</b>\n",
    "\n",
    "Input: head = [1,2], n = 1  \n",
    "Output: [1]"
   ]
  },
  {
   "cell_type": "code",
   "execution_count": 16,
   "metadata": {},
   "outputs": [],
   "source": [
    "def removeNthFromEnd(head, n):\n",
    "    leader = head\n",
    "    for _ in range(n):\n",
    "        leader = leader.next\n",
    "    follower = head\n",
    "    while leader:\n",
    "        leader = leader.next\n",
    "        follower = follower.next\n",
    "    oldNext = follower.next\n",
    "    follower.next = oldNext.next\n",
    "    return head"
   ]
  },
  {
   "cell_type": "code",
   "execution_count": 17,
   "metadata": {},
   "outputs": [],
   "source": [
    "class ListNode:\n",
    "    def __init__(self, val=0, next=None):\n",
    "        self.val = val\n",
    "        self.next = next\n",
    "def listToArr(list):\n",
    "    rv = []\n",
    "    while list:\n",
    "        rv.append(list.val)\n",
    "        list = list.next\n",
    "    print(rv)\n",
    "    return rv\n",
    "def arrToList(arr):\n",
    "    length = len(arr)\n",
    "    head = ListNode(arr[0])\n",
    "    rv = head\n",
    "    i = 1\n",
    "    while i < length:\n",
    "        rv.next = ListNode(arr[i])\n",
    "        rv = rv.next\n",
    "        i+=1\n",
    "    return head"
   ]
  },
  {
   "cell_type": "code",
   "execution_count": 23,
   "metadata": {},
   "outputs": [],
   "source": [
    "def removeNthFromEnd(head,n):\n",
    "    dummy = ListNode(0)\n",
    "    dummy.next = head\n",
    "    leader = dummy\n",
    "    follower = dummy\n",
    "\n",
    "    for _ in range(n+1):\n",
    "        leader = leader.next\n",
    "    while leader != None:\n",
    "        leader = leader.next\n",
    "        follower = follower.next\n",
    "    oldNext = follower.next\n",
    "    follower.next = oldNext.next\n",
    "    return dummy.next\n",
    "\n",
    "\n"
   ]
  },
  {
   "cell_type": "code",
   "execution_count": 24,
   "metadata": {},
   "outputs": [
    {
     "name": "stdout",
     "output_type": "stream",
     "text": [
      "[1, 2, 3, 5]\n",
      "[1, 2, 3, 5]\n",
      "[]\n",
      "[]\n",
      "[1]\n",
      "[1]\n"
     ]
    }
   ],
   "source": [
    "head = [1,2,3,4,5]\n",
    "head = arrToList(head)\n",
    "n = 2  \n",
    "rv = removeNthFromEnd(head,n)\n",
    "rv = listToArr(rv)\n",
    "print(rv)\n",
    "output = [1,2,3,5]\n",
    "assert(output==rv)\n",
    "\n",
    "head = [1]\n",
    "head = arrToList(head)\n",
    "n = 1\n",
    "rv = removeNthFromEnd(head,n)\n",
    "rv = listToArr(rv)\n",
    "print(rv)\n",
    "output = []\n",
    "assert(output==rv)\n",
    "\n",
    "head = [1,2]\n",
    "head = arrToList(head)\n",
    "n = 1\n",
    "rv = removeNthFromEnd(head,n)\n",
    "rv = listToArr(rv)\n",
    "print(rv)\n",
    "output = [1]\n",
    "assert(output==rv)"
   ]
  },
  {
   "cell_type": "code",
   "execution_count": null,
   "metadata": {},
   "outputs": [],
   "source": []
  }
 ],
 "metadata": {
  "kernelspec": {
   "display_name": "base",
   "language": "python",
   "name": "python3"
  },
  "language_info": {
   "codemirror_mode": {
    "name": "ipython",
    "version": 3
   },
   "file_extension": ".py",
   "mimetype": "text/x-python",
   "name": "python",
   "nbconvert_exporter": "python",
   "pygments_lexer": "ipython3",
   "version": "3.9.7"
  },
  "orig_nbformat": 4
 },
 "nbformat": 4,
 "nbformat_minor": 2
}
