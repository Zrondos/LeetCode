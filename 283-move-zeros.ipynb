{
 "cells": [
  {
   "cell_type": "markdown",
   "metadata": {},
   "source": [
    "### 283: Move Zeros"
   ]
  },
  {
   "cell_type": "code",
   "execution_count": null,
   "metadata": {},
   "outputs": [],
   "source": [
    "def moveZeroes(nums):\n",
    "    lastInt = 0\n",
    "    i = 0\n",
    "    length = len(nums)\n",
    "    while i < length:\n",
    "        if nums[i] != 0:\n",
    "            temp = nums[lastInt]\n",
    "            nums[lastInt] = nums[i]\n",
    "            nums[lastInt] = temp\n",
    "            lastInt += 1\n",
    "        i+= 1\n",
    "    while lastInt < length:\n",
    "        nums[lastInt] = 0\n",
    "        lastInt += 1"
   ]
  }
 ],
 "metadata": {
  "language_info": {
   "name": "python"
  },
  "orig_nbformat": 4
 },
 "nbformat": 4,
 "nbformat_minor": 2
}
