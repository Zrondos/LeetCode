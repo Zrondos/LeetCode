{
 "cells": [
  {
   "cell_type": "markdown",
   "metadata": {},
   "source": [
    "### 283: Move Zeros\n",
    "\n",
    "Given an integer array nums, move all 0's to the end of it while maintaining the relative order of the non-zero elements.\n",
    "\n",
    "Note that you must do this in-place without making a copy of the array."
   ]
  },
  {
   "cell_type": "code",
   "execution_count": 7,
   "metadata": {},
   "outputs": [],
   "source": [
    "def moveZeroes(nums):\n",
    "    length = len(nums)\n",
    "    read = 0\n",
    "    write = 0\n",
    "    while read < length:\n",
    "        if nums[read] == 0:\n",
    "            read += 1\n",
    "        else:\n",
    "            nums[write] = nums[read]\n",
    "            write += 1\n",
    "            read += 1\n",
    "    while write < length:\n",
    "        nums[write] = 0\n",
    "        write += 1\n",
    "    "
   ]
  },
  {
   "cell_type": "code",
   "execution_count": 8,
   "metadata": {},
   "outputs": [],
   "source": [
    "nums = [0,1,0,3,12]\n",
    "output = [1,3,12,0,0]\n",
    "moveZeroes(nums)\n",
    "assert(nums==output)\n",
    "\n",
    "nums = [0]\n",
    "output =  [0]\n",
    "moveZeroes(nums)\n",
    "assert(nums==output)\n"
   ]
  },
  {
   "cell_type": "code",
   "execution_count": null,
   "metadata": {},
   "outputs": [],
   "source": []
  }
 ],
 "metadata": {
  "kernelspec": {
   "display_name": "base",
   "language": "python",
   "name": "python3"
  },
  "language_info": {
   "codemirror_mode": {
    "name": "ipython",
    "version": 3
   },
   "file_extension": ".py",
   "mimetype": "text/x-python",
   "name": "python",
   "nbconvert_exporter": "python",
   "pygments_lexer": "ipython3",
   "version": "3.9.7"
  },
  "orig_nbformat": 4
 },
 "nbformat": 4,
 "nbformat_minor": 2
}
