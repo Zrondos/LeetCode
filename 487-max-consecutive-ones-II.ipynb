{
 "cells": [
  {
   "cell_type": "markdown",
   "metadata": {},
   "source": [
    "### 487: Max Consecutive Ones II\n",
    "\n",
    "Given a binary array nums, return the maximum number of consecutive 1's in the array if you can flip at most one 0.\n",
    "\n",
    "<b>Example 1</b>  \n",
    "nums = [1,0,1,1,0]  \n",
    "Output: 4  \n",
    "Explanation:   \n",
    "- If we flip the first zero, nums becomes [1,1,1,1,0] and we have 4 consecutive ones.\n",
    "- If we flip the second zero, nums becomes [1,0,1,1,1] and we have 3 consecutive ones.\n",
    "The max number of consecutive ones is 4.\n",
    "\n",
    "<b>Example 2</b>  \n",
    "nums = [1,0,1,1,0,1]  \n",
    "Output: 4  \n",
    "Explanation:   \n",
    "- If we flip the first zero, nums becomes [1,1,1,1,0,1] and we have 4 consecutive ones.\n",
    "- If we flip the second zero, nums becomes [1,0,1,1,1,1] and we have 4 consecutive ones.\n",
    "The max number of consecutive ones is 4."
   ]
  },
  {
   "cell_type": "markdown",
   "metadata": {},
   "source": []
  }
 ],
 "metadata": {
  "language_info": {
   "name": "python"
  },
  "orig_nbformat": 4
 },
 "nbformat": 4,
 "nbformat_minor": 2
}
