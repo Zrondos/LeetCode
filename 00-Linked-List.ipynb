{
 "cells": [
  {
   "cell_type": "code",
   "execution_count": null,
   "metadata": {},
   "outputs": [],
   "source": [
    "class ListNode:\n",
    "    def __init__(self, val=0, next=None):\n",
    "        self.val = val\n",
    "        self.next = next\n",
    "def listToArr(list):\n",
    "    rv = []\n",
    "    while list:\n",
    "        rv.append(list.val)\n",
    "        list = list.next\n",
    "    print(rv)\n",
    "    return rv\n",
    "def arrToList(arr):\n",
    "    length = len(arr)\n",
    "    head = ListNode(arr[0])\n",
    "    rv = head\n",
    "    i = 1\n",
    "    while i < length:\n",
    "        rv.next = ListNode(arr[i])\n",
    "        rv = rv.next\n",
    "        i+=1\n",
    "    return head"
   ]
  }
 ],
 "metadata": {
  "language_info": {
   "name": "python"
  },
  "orig_nbformat": 4
 },
 "nbformat": 4,
 "nbformat_minor": 2
}
