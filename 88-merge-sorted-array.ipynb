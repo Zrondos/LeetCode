{
 "cells": [
  {
   "cell_type": "markdown",
   "metadata": {},
   "source": [
    "### 88: Merge Sorted Array"
   ]
  },
  {
   "cell_type": "code",
   "execution_count": null,
   "metadata": {},
   "outputs": [],
   "source": [
    "def merge(nums1, m, nums2, n):\n",
    "    i = n+m-1\n",
    "    r1 = m-1\n",
    "    r2 = n-1\n",
    "    while i >= 0:\n",
    "        if r1 < 0:\n",
    "            nums1[i] = nums2[r2]\n",
    "            r2 -= 1\n",
    "        elif r2 < 0:\n",
    "            nums1[i] = nums1[r1]\n",
    "            r1 -= 1\n",
    "        elif nums1[r1] > nums2[r2]:\n",
    "            nums1[i] = nums1[r1]\n",
    "            r1 -= 1\n",
    "        else:\n",
    "            nums1[i] = nums2[r2]\n",
    "            r2 -= 1\n",
    "        i -= 1\n",
    "\n",
    "nums1 = [0]\n",
    "m = 0\n",
    "nums2 = [1]\n",
    "n = 1\n",
    "merge(nums1,m,nums2,n)"
   ]
  }
 ],
 "metadata": {
  "language_info": {
   "name": "python"
  },
  "orig_nbformat": 4
 },
 "nbformat": 4,
 "nbformat_minor": 2
}
