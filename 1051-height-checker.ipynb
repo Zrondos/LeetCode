{
 "cells": [
  {
   "cell_type": "markdown",
   "metadata": {},
   "source": [
    "### 1051: Height Checker\n",
    "\n",
    "A school is trying to take an annual photo of all the students. The students are asked to stand in a single file line in non-decreasing order by height. Let this ordering be represented by the integer array expected where expected[i] is the expected height of the ith student in line.\n",
    "\n",
    "You are given an integer array heights representing the current order that the students are standing in. Each heights[i] is the height of the ith student in line (0-indexed).\n",
    "\n",
    "Return the number of indices where heights[i] != expected[i]."
   ]
  },
  {
   "cell_type": "markdown",
   "metadata": {},
   "source": [
    "Input: heights = [1,1,4,2,1,3]  \n",
    "output =  3  \n",
    "   \n",
    "heights:  [1,1,<b><i>4</i></b>,2,<b><i>1</i></b>,<b><i>3</i></b>]  \n",
    "expected: [1,1,1,2,3,4]  \n",
    "Indices 2, 4, and 5 do not match.  "
   ]
  },
  {
   "cell_type": "code",
   "execution_count": 1,
   "metadata": {},
   "outputs": [],
   "source": [
    "import copy"
   ]
  },
  {
   "cell_type": "code",
   "execution_count": 4,
   "metadata": {},
   "outputs": [],
   "source": [
    "def heightChecker(heights):\n",
    "    expected = copy.deepcopy(heights)\n",
    "    expected.sort()\n",
    "    length = len(heights)\n",
    "    rv = 0\n",
    "    for i in range(length):\n",
    "        if expected[i] != heights[i]:\n",
    "            rv += 1\n",
    "    return rv"
   ]
  },
  {
   "cell_type": "code",
   "execution_count": 5,
   "metadata": {},
   "outputs": [],
   "source": [
    "heights = [1,1,4,2,1,3]\n",
    "output =  3\n",
    "expected: [1,1,1,2,3,4]\n",
    "#Indices 2, 4, and 5 do not match.\n",
    "rv = heightChecker(heights)\n",
    "assert(rv==output)\n",
    "\n",
    "heights = [5,1,2,3,4]\n",
    "output =  5\n",
    "expected: [1,2,3,4,5]\n",
    "#All indices do not match.\n",
    "rv = heightChecker(heights)\n",
    "assert(rv==output)\n",
    "\n",
    "heights = [1,2,3,4,5]\n",
    "output =  0\n",
    "expected: [1,2,3,4,5]\n",
    "rv = heightChecker(heights)\n",
    "assert(rv==output)\n",
    "#All indices match."
   ]
  },
  {
   "cell_type": "code",
   "execution_count": null,
   "metadata": {},
   "outputs": [],
   "source": []
  }
 ],
 "metadata": {
  "kernelspec": {
   "display_name": "base",
   "language": "python",
   "name": "python3"
  },
  "language_info": {
   "codemirror_mode": {
    "name": "ipython",
    "version": 3
   },
   "file_extension": ".py",
   "mimetype": "text/x-python",
   "name": "python",
   "nbconvert_exporter": "python",
   "pygments_lexer": "ipython3",
   "version": "3.9.7"
  },
  "orig_nbformat": 4
 },
 "nbformat": 4,
 "nbformat_minor": 2
}
