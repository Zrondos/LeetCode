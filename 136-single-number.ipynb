{
 "cells": [
  {
   "cell_type": "markdown",
   "metadata": {},
   "source": [
    "### 136: Single Number\n",
    "Given a non-empty array of integers nums, every element appears twice except for one. Find that single one.\n",
    "\n",
    "You must implement a solution with a linear runtime complexity and use only constant extra space.\n"
   ]
  },
  {
   "cell_type": "code",
   "execution_count": 1,
   "metadata": {},
   "outputs": [],
   "source": [
    "def singleNumber(nums):\n",
    "    hashset = set()\n",
    "    for i in nums:\n",
    "        if i in hashset:\n",
    "            hashset.remove(i)\n",
    "        else:\n",
    "            hashset.add(i)\n",
    "    return hashset.pop()"
   ]
  },
  {
   "cell_type": "code",
   "execution_count": 3,
   "metadata": {},
   "outputs": [],
   "source": [
    "nums = [2,2,1]\n",
    "rv = singleNumber(nums)\n",
    "output = 1\n",
    "assert(rv==output)\n",
    "\n",
    "\n",
    "nums = [4,1,2,1,2]\n",
    "rv = singleNumber(nums)\n",
    "output = 4\n",
    "assert(rv==output)\n",
    "\n",
    "nums = [1]\n",
    "rv = singleNumber(nums)\n",
    "output= 1\n",
    "assert(rv==output)"
   ]
  },
  {
   "cell_type": "code",
   "execution_count": null,
   "metadata": {},
   "outputs": [],
   "source": []
  }
 ],
 "metadata": {
  "kernelspec": {
   "display_name": "base",
   "language": "python",
   "name": "python3"
  },
  "language_info": {
   "codemirror_mode": {
    "name": "ipython",
    "version": 3
   },
   "file_extension": ".py",
   "mimetype": "text/x-python",
   "name": "python",
   "nbconvert_exporter": "python",
   "pygments_lexer": "ipython3",
   "version": "3.9.7"
  },
  "orig_nbformat": 4
 },
 "nbformat": 4,
 "nbformat_minor": 2
}
