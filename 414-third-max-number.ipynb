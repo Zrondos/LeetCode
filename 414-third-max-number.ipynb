{
 "cells": [
  {
   "cell_type": "markdown",
   "metadata": {},
   "source": [
    "### 414: Third Maximum Number\n",
    "Given an integer array nums, return the third distinct maximum number in this array. If the third maximum does not exist, return the maximum number.\n",
    "\n",
    "nums = [3,2,1]  \n",
    "output = 1\n",
    "\n",
    "nums = [1,2]  \n",
    "output = 2\n",
    "\n",
    "nums = [2,2,3,1]  \n",
    "output = 1"
   ]
  },
  {
   "cell_type": "code",
   "execution_count": 1,
   "metadata": {},
   "outputs": [],
   "source": [
    "def thirdMax(nums):\n",
    "    max1 = float(\"-inf\")\n",
    "    max2 = float(\"-inf\")\n",
    "    max3 = float(\"-inf\")\n",
    "\n",
    "    for i in nums:\n",
    "        if i > max1:\n",
    "            max3 = max2\n",
    "            max2 = max1\n",
    "            max1 = i\n",
    "        elif i > max2 and i != max1:\n",
    "            max3 = max2\n",
    "            max2 = i\n",
    "        elif i > max3 and i != max1 and i != max2:\n",
    "            max3 = i\n",
    "    if max3 != float(\"-inf\"):\n",
    "        return max3\n",
    "    else:\n",
    "        return max1"
   ]
  },
  {
   "cell_type": "code",
   "execution_count": 2,
   "metadata": {},
   "outputs": [],
   "source": [
    "nums = [3,2,1]\n",
    "output = 1\n",
    "rv = thirdMax(nums)\n",
    "assert(rv==output)\n",
    "\n",
    "nums = [1,2]\n",
    "output = 2\n",
    "rv = thirdMax(nums)\n",
    "assert(rv==output)\n",
    "\n",
    "nums = [2,2,3,1]\n",
    "output = 1\n",
    "rv = thirdMax(nums)\n",
    "assert(rv==output)"
   ]
  },
  {
   "cell_type": "code",
   "execution_count": null,
   "metadata": {},
   "outputs": [],
   "source": []
  }
 ],
 "metadata": {
  "kernelspec": {
   "display_name": "base",
   "language": "python",
   "name": "python3"
  },
  "language_info": {
   "codemirror_mode": {
    "name": "ipython",
    "version": 3
   },
   "file_extension": ".py",
   "mimetype": "text/x-python",
   "name": "python",
   "nbconvert_exporter": "python",
   "pygments_lexer": "ipython3",
   "version": "3.9.7"
  },
  "orig_nbformat": 4
 },
 "nbformat": 4,
 "nbformat_minor": 2
}
