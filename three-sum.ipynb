{
 "cells": [
  {
   "attachments": {},
   "cell_type": "markdown",
   "metadata": {},
   "source": [
    "### 3-Sum\n",
    "\n",
    "Given an integer array nums, return all the triplets:  \n",
    "[nums[i], nums[j], nums[k]] such that i != j, i != k, and j != k, and nums[i] + nums[j] + nums[k] == 0.\n",
    "\n",
    "Notice that the solution set must not contain duplicate triplets."
   ]
  },
  {
   "attachments": {},
   "cell_type": "markdown",
   "metadata": {},
   "source": [
    "<b>Example 1:</b>\n",
    "\n",
    "Input: nums = [-1,0,1,2,-1,-4]  \n",
    "Output: [[-1,-1,2],[-1,0,1]]\n",
    "\n",
    "<b>Example 2:</b>\n",
    "\n",
    "Input: nums = [0,1,1]  \n",
    "Output: []\n",
    "\n",
    "<b>Example 3:</b>\n",
    "Input: nums = [0,0,0]  \n",
    "Output: [[0,0,0]]"
   ]
  },
  {
   "attachments": {},
   "cell_type": "markdown",
   "metadata": {},
   "source": [
    "## Two Pointers"
   ]
  },
  {
   "cell_type": "code",
   "execution_count": 1,
   "metadata": {},
   "outputs": [],
   "source": [
    "def threeSum(nums):\n",
    "    nums.sort()\n",
    "    length = len(nums)\n",
    "    rv = []\n",
    "    i = 0\n",
    "    while i < length:\n",
    "        if nums[i] > 0:\n",
    "            return rv\n",
    "        if i == 0 or nums[i] != nums[i-1]:\n",
    "            left = i+1\n",
    "            right = length - 1\n",
    "            val = nums[i]\n",
    "            target = val * -1\n",
    "            while left < right:\n",
    "                l = nums[left]\n",
    "                r = nums[right]\n",
    "                if l + r > target:\n",
    "                    right -= 1\n",
    "                elif l + r < target:\n",
    "                    left += 1\n",
    "                else:\n",
    "                    rv.append([val,l,r])\n",
    "                    left += 1\n",
    "                    right -= 1\n",
    "                    while left < right and nums[left] == nums[left-1]:\n",
    "                        left += 1\n",
    "        i+= 1      \n",
    "    return rv"
   ]
  },
  {
   "cell_type": "code",
   "execution_count": 2,
   "metadata": {},
   "outputs": [],
   "source": [
    "nums = [-1,0,1,2,-1,-4]  \n",
    "rv = [[-1,-1,2],[-1,0,1]]\n",
    "assert threeSum(nums) == rv\n",
    "\n",
    "nums = [0,1,1]  \n",
    "rv = []\n",
    "assert threeSum(nums) == rv\n",
    "\n",
    "nums = [0,0,0]  \n",
    "rv = [[0,0,0]]\n",
    "assert threeSum(nums) == rv"
   ]
  },
  {
   "attachments": {},
   "cell_type": "markdown",
   "metadata": {},
   "source": [
    "## Hashset"
   ]
  },
  {
   "cell_type": "code",
   "execution_count": null,
   "metadata": {},
   "outputs": [],
   "source": [
    "def threeSum(nums):\n",
    "    hashmap = {}\n",
    "    length = len(nums)\n",
    "    "
   ]
  },
  {
   "cell_type": "code",
   "execution_count": null,
   "metadata": {},
   "outputs": [],
   "source": [
    "nums = [-1,0,1,2,-1,-4]  \n",
    "rv = [[-1,-1,2],[-1,0,1]]\n",
    "assert threeSum(nums) == rv\n",
    "\n",
    "nums = [0,1,1]  \n",
    "rv = []\n",
    "assert threeSum(nums) == rv\n",
    "\n",
    "nums = [0,0,0]  \n",
    "rv = [[0,0,0]]\n",
    "assert threeSum(nums) == rv"
   ]
  },
  {
   "attachments": {},
   "cell_type": "markdown",
   "metadata": {},
   "source": [
    "## No-Sort"
   ]
  },
  {
   "attachments": {},
   "cell_type": "markdown",
   "metadata": {},
   "source": []
  }
 ],
 "metadata": {
  "kernelspec": {
   "display_name": "Python 3",
   "language": "python",
   "name": "python3"
  },
  "language_info": {
   "codemirror_mode": {
    "name": "ipython",
    "version": 3
   },
   "file_extension": ".py",
   "mimetype": "text/x-python",
   "name": "python",
   "nbconvert_exporter": "python",
   "pygments_lexer": "ipython3",
   "version": "3.9.7"
  },
  "orig_nbformat": 4
 },
 "nbformat": 4,
 "nbformat_minor": 2
}
