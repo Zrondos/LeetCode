{
 "cells": [
  {
   "cell_type": "markdown",
   "metadata": {},
   "source": [
    "### 1295: Find Numbers with Even Number of Digits\n",
    "\n",
    "Given an array nums of integers, return how many of them contain an even number of digits.\n",
    "\n",
    "https://leetcode.com/problems/find-numbers-with-even-number-of-digits/"
   ]
  },
  {
   "cell_type": "code",
   "execution_count": 5,
   "metadata": {},
   "outputs": [],
   "source": [
    "def findNumbers(nums):\n",
    "    rv = 0\n",
    "    for n in nums:\n",
    "        even = False\n",
    "        while n >= 10:\n",
    "            n = n//10\n",
    "            even = not even\n",
    "        if even:\n",
    "            rv += 1\n",
    "    return rv"
   ]
  },
  {
   "cell_type": "code",
   "execution_count": 7,
   "metadata": {},
   "outputs": [],
   "source": [
    "nums = [12,345,2,6,7896]\n",
    "rv = findNumbers(nums)\n",
    "output = 2\n",
    "assert(rv==output)\n",
    "\n",
    "nums = [555,901,482,1771]\n",
    "rv = findNumbers(nums)\n",
    "output = 1\n",
    "assert(rv==output)"
   ]
  }
 ],
 "metadata": {
  "kernelspec": {
   "display_name": "base",
   "language": "python",
   "name": "python3"
  },
  "language_info": {
   "codemirror_mode": {
    "name": "ipython",
    "version": 3
   },
   "file_extension": ".py",
   "mimetype": "text/x-python",
   "name": "python",
   "nbconvert_exporter": "python",
   "pygments_lexer": "ipython3",
   "version": "3.9.7"
  },
  "orig_nbformat": 4
 },
 "nbformat": 4,
 "nbformat_minor": 2
}
