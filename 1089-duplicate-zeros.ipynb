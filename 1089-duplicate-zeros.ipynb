{
 "cells": [
  {
   "cell_type": "markdown",
   "metadata": {},
   "source": [
    "### 1089: Duplicate Zeros\n",
    "\n",
    "Given a fixed-length integer array arr, duplicate each occurrence of zero, shifting the remaining elements to the right.\n",
    "\n",
    "Note that elements beyond the length of the original array are not written. Do the above modifications to the input array in place and do not return anything."
   ]
  },
  {
   "cell_type": "code",
   "execution_count": 22,
   "metadata": {},
   "outputs": [],
   "source": [
    "def duplicateZeros(arr):\n",
    "    lastIndex = 0\n",
    "    length = len(arr)\n",
    "    currLength = 0\n",
    "    while currLength < length:\n",
    "        if arr[lastIndex] != 0:\n",
    "            currLength += 1\n",
    "        else:\n",
    "            currLength += 2\n",
    "        lastIndex += 1\n",
    "    lastIndex -= 1\n",
    "    right = length - 1\n",
    "    if currLength > length:\n",
    "        arr[right] = 0\n",
    "        right -= 1\n",
    "        lastIndex -= 1\n",
    "        currLength -= 1\n",
    "    while lastIndex >= 0:\n",
    "        if arr[lastIndex] == 0:\n",
    "            arr[right] = 0\n",
    "            right -= 1\n",
    "            arr[right] = 0\n",
    "            lastIndex -= 1\n",
    "            currLength -=2\n",
    "            right -= 1\n",
    "        else:\n",
    "            arr[right] = arr[lastIndex]\n",
    "            right -= 1\n",
    "            lastIndex -= 1\n",
    "            currLength -=1\n",
    "    return"
   ]
  },
  {
   "cell_type": "code",
   "execution_count": 23,
   "metadata": {},
   "outputs": [],
   "source": [
    "arr = [1,0,2,3,0,4,5,0]\n",
    "duplicateZeros(arr)\n",
    "output = [1,0,0,2,3,0,0,4]\n",
    "assert(arr==output)\n",
    "\n",
    "arr = [1,2,3]\n",
    "duplicateZeros(arr)\n",
    "output = [1,2,3]\n",
    "assert(arr==output)"
   ]
  }
 ],
 "metadata": {
  "kernelspec": {
   "display_name": "base",
   "language": "python",
   "name": "python3"
  },
  "language_info": {
   "codemirror_mode": {
    "name": "ipython",
    "version": 3
   },
   "file_extension": ".py",
   "mimetype": "text/x-python",
   "name": "python",
   "nbconvert_exporter": "python",
   "pygments_lexer": "ipython3",
   "version": "3.9.7"
  },
  "orig_nbformat": 4
 },
 "nbformat": 4,
 "nbformat_minor": 2
}
