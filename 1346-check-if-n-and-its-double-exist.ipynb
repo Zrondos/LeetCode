{
 "cells": [
  {
   "cell_type": "markdown",
   "metadata": {},
   "source": [
    "### 1346. Check If N and Its Double Exist\n",
    "\n",
    "Given an array arr of integers, check if there exist two indices i and j such that :\n",
    "\n",
    "i != j  \n",
    "0 <= i, j < arr.length  \n",
    "arr[i] == 2 * arr[j]  "
   ]
  },
  {
   "cell_type": "code",
   "execution_count": 3,
   "metadata": {},
   "outputs": [],
   "source": [
    "def checkIfExist(arr):\n",
    "    hashset = set()\n",
    "    for i in arr:\n",
    "        if i*2 in hashset or (i%2==0 and i//2 in hashset):\n",
    "            return True\n",
    "        hashset.add(i)\n",
    "    return False\n"
   ]
  },
  {
   "cell_type": "code",
   "execution_count": 4,
   "metadata": {},
   "outputs": [],
   "source": [
    "arr = [10,2,5,3]\n",
    "rv = checkIfExist(arr)\n",
    "output= True\n",
    "assert(rv==output)\n",
    "\n",
    "arr = [3,1,7,11]\n",
    "rv = checkIfExist(arr)\n",
    "output= False\n",
    "assert(rv==output)"
   ]
  }
 ],
 "metadata": {
  "kernelspec": {
   "display_name": "base",
   "language": "python",
   "name": "python3"
  },
  "language_info": {
   "codemirror_mode": {
    "name": "ipython",
    "version": 3
   },
   "file_extension": ".py",
   "mimetype": "text/x-python",
   "name": "python",
   "nbconvert_exporter": "python",
   "pygments_lexer": "ipython3",
   "version": "3.9.7"
  },
  "orig_nbformat": 4
 },
 "nbformat": 4,
 "nbformat_minor": 2
}
