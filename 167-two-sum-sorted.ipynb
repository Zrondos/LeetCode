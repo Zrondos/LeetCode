{
 "cells": [
  {
   "cell_type": "markdown",
   "metadata": {},
   "source": [
    "### 167 Two Sum II - Input Array is Sorted"
   ]
  },
  {
   "cell_type": "code",
   "execution_count": 6,
   "metadata": {},
   "outputs": [],
   "source": [
    "def twoSum(numbers, target):\n",
    "    left = 0\n",
    "    right = len(numbers) - 1\n",
    "    while left < right:\n",
    "        val = numbers[left] + numbers[right]\n",
    "        if val > target:\n",
    "            right -=1\n",
    "        elif val < target:\n",
    "            left += 1\n",
    "        else:\n",
    "            return [left+1,right+1]\n",
    "    return []"
   ]
  },
  {
   "cell_type": "code",
   "execution_count": 8,
   "metadata": {},
   "outputs": [],
   "source": [
    "numbers = [2,7,11,15]\n",
    "target = 9\n",
    "output = [1,2]\n",
    "assert twoSum(numbers,target)==output\n",
    "\n",
    "numbers = [2,3,4]\n",
    "target = 6\n",
    "output = [1,3]\n",
    "assert twoSum(numbers,target)==output\n",
    "\n",
    "\n",
    "numbers = [-1,0]\n",
    "target = -1\n",
    "output = [1,2]\n",
    "assert twoSum(numbers,target)==output\n"
   ]
  },
  {
   "cell_type": "code",
   "execution_count": null,
   "metadata": {},
   "outputs": [],
   "source": []
  }
 ],
 "metadata": {
  "kernelspec": {
   "display_name": "Python 3",
   "language": "python",
   "name": "python3"
  },
  "language_info": {
   "codemirror_mode": {
    "name": "ipython",
    "version": 3
   },
   "file_extension": ".py",
   "mimetype": "text/x-python",
   "name": "python",
   "nbconvert_exporter": "python",
   "pygments_lexer": "ipython3",
   "version": "3.8.9"
  },
  "orig_nbformat": 4
 },
 "nbformat": 4,
 "nbformat_minor": 2
}
