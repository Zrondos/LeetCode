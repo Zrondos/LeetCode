{
 "cells": [
  {
   "cell_type": "markdown",
   "metadata": {},
   "source": [
    "### 1299: Replace Elements w/ Greatest Element on Right Side\n",
    "\n",
    "Given an array arr, replace every element in that array with the greatest element among the elements to its right, and replace the last element with -1."
   ]
  },
  {
   "cell_type": "code",
   "execution_count": 7,
   "metadata": {},
   "outputs": [],
   "source": [
    "def replaceElements(arr):\n",
    "    length = len(arr)\n",
    "    _max = arr[length-1]\n",
    "    arr[length-1] = -1\n",
    "    index = length - 2\n",
    "    while index >= 0:\n",
    "        curr = arr[index]\n",
    "        arr[index] = _max\n",
    "        _max = max(_max,curr)\n",
    "        index -= 1\n",
    "    return arr"
   ]
  },
  {
   "cell_type": "code",
   "execution_count": 8,
   "metadata": {},
   "outputs": [
    {
     "name": "stdout",
     "output_type": "stream",
     "text": [
      "[18, 6, 6, 6, 1, -1]\n"
     ]
    }
   ],
   "source": [
    "arr = [17,18,5,4,6,1]\n",
    "output = [18,6,6,6,1,-1]\n",
    "rv = replaceElements(arr)\n",
    "assert(rv==output)\n",
    "\n",
    "arr = [400]\n",
    "output = [-1]\n",
    "rv = replaceElements(arr)\n",
    "assert(rv==output)"
   ]
  },
  {
   "cell_type": "code",
   "execution_count": null,
   "metadata": {},
   "outputs": [],
   "source": []
  }
 ],
 "metadata": {
  "kernelspec": {
   "display_name": "base",
   "language": "python",
   "name": "python3"
  },
  "language_info": {
   "codemirror_mode": {
    "name": "ipython",
    "version": 3
   },
   "file_extension": ".py",
   "mimetype": "text/x-python",
   "name": "python",
   "nbconvert_exporter": "python",
   "pygments_lexer": "ipython3",
   "version": "3.9.7"
  },
  "orig_nbformat": 4
 },
 "nbformat": 4,
 "nbformat_minor": 2
}
