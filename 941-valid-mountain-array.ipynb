{
 "cells": [
  {
   "cell_type": "markdown",
   "metadata": {},
   "source": [
    "### 941. Valid Mountain Array\n",
    "Given an array of integers arr, return true if and only if it is a valid mountain array.\n",
    "\n",
    "Recall that arr is a mountain array if and only if:\n",
    "\n",
    "arr.length >= 3  \n",
    "There exists some i with 0 < i < arr.length - 1 such that:  \n",
    "arr[0] < arr[1] < ... < arr[i - 1] < arr[i]   \n",
    "arr[i] > arr[i + 1] > ... > arr[arr.length - 1]  "
   ]
  },
  {
   "cell_type": "code",
   "execution_count": 2,
   "metadata": {},
   "outputs": [],
   "source": [
    "def validMountainArray(arr):\n",
    "    length = len(arr)\n",
    "    i = 0\n",
    "    while i+1<length and arr[i] < arr[i+1]:\n",
    "        i += 1\n",
    "    if i == 0 or i == length -1:\n",
    "        return False\n",
    "    while i+1<length and arr[i] > arr[i+1]:\n",
    "        i += 1\n",
    "    return i == length - 1"
   ]
  },
  {
   "cell_type": "code",
   "execution_count": 3,
   "metadata": {},
   "outputs": [],
   "source": [
    "arr = [2,1]\n",
    "output= False\n",
    "rv = validMountainArray(arr)\n",
    "assert(rv==output)\n",
    "\n",
    "arr = [3,5,5]\n",
    "output= False\n",
    "rv = validMountainArray(arr)\n",
    "assert(rv==output)\n",
    "\n",
    "\n",
    "arr = [0,3,2,1]\n",
    "output= True\n",
    "rv = validMountainArray(arr)\n",
    "assert(rv==output)"
   ]
  },
  {
   "cell_type": "code",
   "execution_count": null,
   "metadata": {},
   "outputs": [],
   "source": []
  }
 ],
 "metadata": {
  "kernelspec": {
   "display_name": "base",
   "language": "python",
   "name": "python3"
  },
  "language_info": {
   "codemirror_mode": {
    "name": "ipython",
    "version": 3
   },
   "file_extension": ".py",
   "mimetype": "text/x-python",
   "name": "python",
   "nbconvert_exporter": "python",
   "pygments_lexer": "ipython3",
   "version": "3.9.7"
  },
  "orig_nbformat": 4
 },
 "nbformat": 4,
 "nbformat_minor": 2
}
